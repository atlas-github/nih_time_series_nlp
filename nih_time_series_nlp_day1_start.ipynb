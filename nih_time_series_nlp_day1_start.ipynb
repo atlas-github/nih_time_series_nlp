{
  "nbformat": 4,
  "nbformat_minor": 0,
  "metadata": {
    "colab": {
      "provenance": [],
      "toc_visible": true,
      "authorship_tag": "ABX9TyNHPiIhCb+Z1XdlVhwh4D5w",
      "include_colab_link": true
    },
    "kernelspec": {
      "name": "python3",
      "display_name": "Python 3"
    },
    "language_info": {
      "name": "python"
    }
  },
  "cells": [
    {
      "cell_type": "markdown",
      "metadata": {
        "id": "view-in-github",
        "colab_type": "text"
      },
      "source": [
        "<a href=\"https://colab.research.google.com/github/atlas-github/nih_time_series_nlp/blob/main/nih_time_series_nlp_day1_start.ipynb\" target=\"_parent\"><img src=\"https://colab.research.google.com/assets/colab-badge.svg\" alt=\"Open In Colab\"/></a>"
      ]
    },
    {
      "cell_type": "markdown",
      "source": [
        "## 09:00 am: Introduction to Python"
      ],
      "metadata": {
        "id": "9wlKZdqTV5Jb"
      }
    },
    {
      "cell_type": "code",
      "execution_count": 2,
      "metadata": {
        "id": "oIG0CG4iPh4E"
      },
      "outputs": [],
      "source": [
        "# create a simple math problem\n"
      ]
    },
    {
      "cell_type": "code",
      "source": [
        "# create a function (i.e. definition)\n",
        "# this is what a function means: https://cs.stanford.edu/people/nick/py/python-function.html#:~:text=A%20python%20program%20is%20made,Python%20is%20inside%20a%20function.\n"
      ],
      "metadata": {
        "id": "XdNWDK2FWQyv"
      },
      "execution_count": 3,
      "outputs": []
    },
    {
      "cell_type": "code",
      "source": [
        "#now call the function\n"
      ],
      "metadata": {
        "id": "5qUx_lOcWQ04"
      },
      "execution_count": 4,
      "outputs": []
    },
    {
      "cell_type": "code",
      "source": [
        "# create a plot\n",
        "# matplotlib from https://matplotlib.org/stable/\n",
        "# numpy from https://numpy.org/\n"
      ],
      "metadata": {
        "id": "7KZNR3HlWQ3T"
      },
      "execution_count": 8,
      "outputs": []
    },
    {
      "cell_type": "code",
      "source": [
        "# create a line plot\n",
        "\n",
        "# x-axis: range from 0 to 10, with 100 evenly spaced values in between 0 and 10\n",
        "# refer to https://numpy.org/doc/stable/reference/generated/numpy.linspace.html\n",
        "\n",
        "\n",
        "# y-axis: use sin(x)\n",
        "# refer to https://numpy.org/doc/stable/reference/generated/numpy.sin.html\n",
        "\n",
        "\n",
        "# set size of figure\n",
        "# refer to https://matplotlib.org/stable/api/_as_gen/matplotlib.pyplot.figure.html\n",
        "\n",
        "\n",
        "# plot the data\n",
        "# refer to https://matplotlib.org/stable/api/_as_gen/matplotlib.pyplot.plot.html\n",
        "\n",
        "\n",
        "# set the title of the plot\n",
        "# refer to https://matplotlib.org/3.1.1/api/_as_gen/matplotlib.pyplot.title.html\n",
        "\n",
        "\n",
        "# set the x-axis label\n",
        "# refer to https://matplotlib.org/stable/api/_as_gen/matplotlib.pyplot.xlabel.html\n",
        "\n",
        "\n",
        "# set the y-axis label\n",
        "# refer to https://matplotlib.org/stable/api/_as_gen/matplotlib.pyplot.ylabel.html\n",
        "\n",
        "\n",
        "# set the legend\n",
        "# refer to https://matplotlib.org/stable/api/_as_gen/matplotlib.pyplot.legend.html\n",
        "\n",
        "\n",
        "# add gridlines\n",
        "# refer to https://matplotlib.org/stable/api/_as_gen/matplotlib.pyplot.grid.html\n",
        "\n",
        "\n",
        "# show the plot\n",
        "# refer to https://matplotlib.org/stable/api/_as_gen/matplotlib.pyplot.show.html\n"
      ],
      "metadata": {
        "id": "waINlt3aXHKC"
      },
      "execution_count": 5,
      "outputs": []
    },
    {
      "cell_type": "code",
      "source": [
        "# create another bar chart from https://matplotlib.org/stable/plot_types/basic/bar.html\n"
      ],
      "metadata": {
        "id": "u3az44JAXHMo"
      },
      "execution_count": 6,
      "outputs": []
    },
    {
      "cell_type": "code",
      "source": [
        "# create a scatter plot from https://matplotlib.org/stable/plot_types/basic/scatter_plot.html\n"
      ],
      "metadata": {
        "id": "FG8W46cPXHO8"
      },
      "execution_count": 7,
      "outputs": []
    },
    {
      "cell_type": "code",
      "source": [
        "# plotly from https://plotly.com/python/graph-objects/\n",
        "# import plotly\n",
        "# plotly from https://plotly.com/python/\n",
        "# pandas from https://pandas.pydata.org/\n",
        "# numpy from https://numpy.org/\n"
      ],
      "metadata": {
        "id": "BJ_0EQURWQ5x"
      },
      "execution_count": null,
      "outputs": []
    },
    {
      "cell_type": "code",
      "source": [
        "# reuse line plot x and y values from above\n",
        "\n",
        "\n",
        "line_fig = go.Figure()\n",
        "line_fig.add_trace(go.Scatter(x=x, y=y, mode='lines', name='sin(x)'))\n",
        "line_fig.update_layout(\n",
        "    title='Line Plot',\n",
        "    xaxis_title='X-axis',\n",
        "    yaxis_title='Y-axis'\n",
        ")\n",
        "line_fig.show()"
      ],
      "metadata": {
        "id": "HxordOxAXdHX"
      },
      "execution_count": null,
      "outputs": []
    },
    {
      "cell_type": "code",
      "source": [
        "# bar chart from https://plotly.com/python/bar-charts/\n",
        "categories = ['A', 'B', 'C', 'D']\n",
        "values = [5, 7, 3, 8]\n",
        "\n",
        "bar_fig = go.Figure()\n",
        "bar_fig.add_trace(go.Bar(x=categories, y=values, marker_color=['red', 'green', 'blue', 'purple']))\n",
        "bar_fig.update_layout(\n",
        "    title='Bar Chart',\n",
        "    xaxis_title='Categories',\n",
        "    yaxis_title='Values'\n",
        ")\n",
        "bar_fig.show()"
      ],
      "metadata": {
        "id": "dTBXKgGCXdJ3"
      },
      "execution_count": null,
      "outputs": []
    },
    {
      "cell_type": "code",
      "source": [
        "# Scatter Plot https://plotly.com/python/line-and-scatter/\n",
        "np.random.seed(0)\n",
        "x = np.random.rand(50)\n",
        "y = np.random.rand(50)\n",
        "colors = np.random.rand(50)\n",
        "sizes = 1000 * np.random.rand(50)\n",
        "\n",
        "scatter_fig = go.Figure()\n",
        "scatter_fig.add_trace(go.Scatter(\n",
        "    x=x, y=y, mode='markers',\n",
        "    marker=dict(\n",
        "        size=sizes,\n",
        "        color=colors,\n",
        "        colorscale='Viridis',\n",
        "        showscale=True\n",
        "    )\n",
        "))\n",
        "scatter_fig.update_layout(\n",
        "    title='Scatter Plot',\n",
        "    xaxis_title='X-axis',\n",
        "    yaxis_title='Y-axis'\n",
        ")\n",
        "scatter_fig.show()"
      ],
      "metadata": {
        "id": "ZT-tvTxTXdMI"
      },
      "execution_count": null,
      "outputs": []
    },
    {
      "cell_type": "code",
      "source": [
        "# scikit-learn from https://scikit-learn.org/stable/\n",
        "# import numpy, pandas, seaborn, matplotlib.pyplot\n"
      ],
      "metadata": {
        "id": "zP5EXPzwWQ8N"
      },
      "execution_count": 9,
      "outputs": []
    },
    {
      "cell_type": "code",
      "source": [
        "# load the iris dataset\n",
        "# refer to https://scikit-learn.org/stable/modules/generated/sklearn.datasets.load_iris.html\n",
        "\n",
        "\n",
        "# assign dependent and independent variables to x and y\n",
        "\n",
        "\n",
        "# assign feature names and target names\n"
      ],
      "metadata": {
        "id": "izAk-_u9XxSB"
      },
      "execution_count": null,
      "outputs": []
    },
    {
      "cell_type": "code",
      "source": [
        "# create a dataframe for easier data manipulation\n",
        "# refer to https://pandas.pydata.org/pandas-docs/stable/reference/api/pandas.DataFrame.html\n"
      ],
      "metadata": {
        "id": "8GgSkmP_XxUY"
      },
      "execution_count": null,
      "outputs": []
    },
    {
      "cell_type": "code",
      "source": [
        "# display the first few rows of the dataset\n",
        "# refer to https://pandas.pydata.org/docs/reference/api/pandas.DataFrame.head.html\n"
      ],
      "metadata": {
        "id": "GnRj5CibXxWr"
      },
      "execution_count": null,
      "outputs": []
    },
    {
      "cell_type": "code",
      "source": [
        "# split the data into training and testing sets\n",
        "# refer to https://scikit-learn.org/stable/modules/generated/sklearn.model_selection.train_test_split.html\n"
      ],
      "metadata": {
        "id": "m9Uzwa22X6uF"
      },
      "execution_count": null,
      "outputs": []
    },
    {
      "cell_type": "code",
      "source": [
        "# standardize the features\n",
        "# refer to https://scikit-learn.org/stable/modules/generated/sklearn.preprocessing.StandardScaler.html\n"
      ],
      "metadata": {
        "id": "eZJZGuyvX6wX"
      },
      "execution_count": null,
      "outputs": []
    },
    {
      "cell_type": "code",
      "source": [
        "# train a RandomForest classifier\n",
        "# refer to https://scikit-learn.org/stable/modules/generated/sklearn.ensemble.RandomForestClassifier.html\n"
      ],
      "metadata": {
        "id": "aXp-J6SnX6yq"
      },
      "execution_count": null,
      "outputs": []
    },
    {
      "cell_type": "code",
      "source": [
        "# make predictions\n",
        "# refer to https://scikit-learn.org/stable/modules/generated/sklearn.ensemble.RandomForestClassifier.html\n"
      ],
      "metadata": {
        "id": "7LkRHmrMX61H"
      },
      "execution_count": null,
      "outputs": []
    },
    {
      "cell_type": "code",
      "source": [
        "# evaluate the model\n",
        "# refer to https://scikit-learn.org/1.5/modules/generated/sklearn.metrics.accuracy_score.html\n"
      ],
      "metadata": {
        "id": "GwisS7bNYAd4"
      },
      "execution_count": null,
      "outputs": []
    },
    {
      "cell_type": "code",
      "source": [
        "# display a classification report\n",
        "# refer to https://scikit-learn.org/stable/modules/generated/sklearn.metrics.classification_report.html\n"
      ],
      "metadata": {
        "id": "abtWiXdrYAgK"
      },
      "execution_count": null,
      "outputs": []
    },
    {
      "cell_type": "code",
      "source": [
        "# display a confusion matrix\n",
        "# refer to https://scikit-learn.org/stable/modules/generated/sklearn.metrics.confusion_matrix.html\n"
      ],
      "metadata": {
        "id": "T5vyc8PyYAiq"
      },
      "execution_count": null,
      "outputs": []
    },
    {
      "cell_type": "code",
      "source": [
        "# install tensorflow library using pip install"
      ],
      "metadata": {
        "id": "VY-zkLG2Yhri"
      },
      "execution_count": null,
      "outputs": []
    },
    {
      "cell_type": "code",
      "source": [
        "# tensorflow from https://www.tensorflow.org/\n",
        "import tensorflow as tf\n",
        "from tensorflow.keras.datasets import mnist\n",
        "from tensorflow.keras.models import Sequential\n",
        "from tensorflow.keras.layers import Dense, Flatten\n",
        "from tensorflow.keras.utils import to_categorical\n",
        "import matplotlib.pyplot as plt"
      ],
      "metadata": {
        "id": "gsu62xrHWsYp"
      },
      "execution_count": null,
      "outputs": []
    },
    {
      "cell_type": "code",
      "source": [
        "# load the MNIST dataset\n",
        "# refer to https://www.tensorflow.org/api_docs/python/tf/keras/datasets/mnist/load_data\n"
      ],
      "metadata": {
        "id": "qEyIJKltYahT"
      },
      "execution_count": null,
      "outputs": []
    },
    {
      "cell_type": "code",
      "source": [
        "# preprocess the data\n",
        "x_train = x_train.astype('float32') / 255.0\n",
        "x_test = x_test.astype('float32') / 255.0\n",
        "y_train = to_categorical(y_train, 10)\n",
        "y_test = to_categorical(y_test, 10)"
      ],
      "metadata": {
        "id": "tv5PtH3vYajl"
      },
      "execution_count": null,
      "outputs": []
    },
    {
      "cell_type": "code",
      "source": [
        "# build the neural network model\n",
        "# refer to https://www.tensorflow.org/api_docs/python/tf/keras/Sequential\n",
        "model = Sequential([\n",
        "    Flatten(input_shape=(28, 28)),\n",
        "    Dense(128, activation='relu'),\n",
        "    Dense(64, activation='relu'),\n",
        "    Dense(10, activation='softmax')\n",
        "])"
      ],
      "metadata": {
        "id": "F3e85l6SYamP"
      },
      "execution_count": null,
      "outputs": []
    },
    {
      "cell_type": "code",
      "source": [
        "# compile the model\n",
        "# refer to https://www.tensorflow.org/api_docs/python/tf/keras/Model#compile\n",
        "model.compile(optimizer='adam', loss='categorical_crossentropy', metrics=['accuracy'])"
      ],
      "metadata": {
        "id": "RdjnSOKKYao7"
      },
      "execution_count": null,
      "outputs": []
    },
    {
      "cell_type": "code",
      "source": [
        "# train the model\n",
        "# refer to https://www.tensorflow.org/api_docs/python/tf/keras/Model#fit\n",
        "history = model.fit(x_train, y_train, epochs=10, batch_size=32, validation_split=0.2)"
      ],
      "metadata": {
        "id": "XAR8CClcYfsI"
      },
      "execution_count": null,
      "outputs": []
    },
    {
      "cell_type": "code",
      "source": [
        "# evaluate the model\n",
        "# refer to https://www.tensorflow.org/api_docs/python/tf/keras/Model#evaluate\n",
        "loss, accuracy = model.evaluate(x_test, y_test)\n",
        "print(f'Loss: {loss:.4f}')\n",
        "print(f'Accuracy: {accuracy:.4f}')"
      ],
      "metadata": {
        "id": "B05Vq6Z3YfuZ"
      },
      "execution_count": null,
      "outputs": []
    },
    {
      "cell_type": "code",
      "source": [
        "# plot training & validation accuracy values\n",
        "plt.figure(figsize=(12, 4))\n",
        "plt.subplot(1, 2, 1)\n",
        "plt.plot(history.history['accuracy'], label='Train')\n",
        "plt.plot(history.history['val_accuracy'], label='Validation')\n",
        "plt.title('Model Accuracy')\n",
        "plt.xlabel('Epoch')\n",
        "plt.ylabel('Accuracy')\n",
        "plt.legend()"
      ],
      "metadata": {
        "id": "lvFgfKusYfxF"
      },
      "execution_count": null,
      "outputs": []
    },
    {
      "cell_type": "code",
      "source": [
        "# Plot training & validation loss values\n",
        "plt.subplot(1, 2, 2)\n",
        "plt.plot(history.history['loss'], label='Train')\n",
        "plt.plot(history.history['val_loss'], label='Validation')\n",
        "plt.title('Model Loss')\n",
        "plt.xlabel('Epoch')\n",
        "plt.ylabel('Loss')\n",
        "plt.legend()\n",
        "\n",
        "plt.show()"
      ],
      "metadata": {
        "id": "DK3Li4BgYfy9"
      },
      "execution_count": null,
      "outputs": []
    },
    {
      "cell_type": "code",
      "source": [
        "# make predictions\n",
        "# refer to https://www.tensorflow.org/api_docs/python/tf/keras/Model#predict\n",
        "predictions = model.predict(x_test)"
      ],
      "metadata": {
        "id": "f9Xz08BxYxm_"
      },
      "execution_count": null,
      "outputs": []
    },
    {
      "cell_type": "code",
      "source": [
        "# display a few predictions with their actual labels\n",
        "fig, axes = plt.subplots(3, 3, figsize=(9, 9))\n",
        "for i, ax in enumerate(axes.flat):\n",
        "    ax.imshow(x_test[i], cmap='gray')\n",
        "    ax.set_title(f\"Pred: {predictions[i].argmax()}, True: {y_test[i].argmax()}\")\n",
        "    ax.axis('off')\n",
        "plt.tight_layout()\n",
        "plt.show()"
      ],
      "metadata": {
        "id": "Pr-25AkzYxpW"
      },
      "execution_count": null,
      "outputs": []
    },
    {
      "cell_type": "code",
      "source": [
        "# install torch and torchvision libraries\n",
        "!pip install torch torchvision"
      ],
      "metadata": {
        "id": "kC_GnKkAY_rk"
      },
      "execution_count": null,
      "outputs": []
    },
    {
      "cell_type": "code",
      "source": [
        "# pytorch from https://pytorch.org/\n",
        "import torch\n",
        "import torch.nn as nn\n",
        "import torch.optim as optim\n",
        "from torchvision import datasets, transforms\n",
        "from torch.utils.data import DataLoader\n",
        "import matplotlib.pyplot as plt"
      ],
      "metadata": {
        "id": "0u7X9JzdWsa6"
      },
      "execution_count": null,
      "outputs": []
    },
    {
      "cell_type": "code",
      "source": [
        "# define transformations for the train and test sets\n",
        "# refer to https://pytorch.org/vision/main/generated/torchvision.transforms.Compose.html\n",
        "transform = transforms.Compose([\n",
        "    transforms.ToTensor(),\n",
        "    transforms.Normalize((0.1307,), (0.3081,))\n",
        "])"
      ],
      "metadata": {
        "id": "HXBcYrIZZBEo"
      },
      "execution_count": null,
      "outputs": []
    },
    {
      "cell_type": "code",
      "source": [
        "# load the MNIST dataset\n",
        "# refer to https://pytorch.org/vision/master/datasets.html\n",
        "train_dataset = datasets.MNIST(root='./data', train=True, download=True, transform=transform)\n",
        "test_dataset = datasets.MNIST(root='./data', train=False, download=True, transform=transform)\n",
        "\n",
        "train_loader = DataLoader(train_dataset, batch_size=64, shuffle=True)\n",
        "test_loader = DataLoader(test_dataset, batch_size=1000, shuffle=False)"
      ],
      "metadata": {
        "id": "FPQF4c7KZBHB"
      },
      "execution_count": null,
      "outputs": []
    },
    {
      "cell_type": "code",
      "source": [
        "# Define the neural network model\n",
        "class SimpleNN(nn.Module):\n",
        "    def __init__(self):\n",
        "        super(SimpleNN, self).__init__()\n",
        "        self.flatten = nn.Flatten()\n",
        "        self.fc1 = nn.Linear(28*28, 128)\n",
        "        self.fc2 = nn.Linear(128, 64)\n",
        "        self.fc3 = nn.Linear(64, 10)\n",
        "\n",
        "    def forward(self, x):\n",
        "        x = self.flatten(x)\n",
        "        x = torch.relu(self.fc1(x))\n",
        "        x = torch.relu(self.fc2(x))\n",
        "        x = self.fc3(x)\n",
        "        return x\n",
        "\n",
        "model = SimpleNN()"
      ],
      "metadata": {
        "id": "SQbGdWwAZBJH"
      },
      "execution_count": null,
      "outputs": []
    },
    {
      "cell_type": "code",
      "source": [
        "# define the loss function and the optimizer\n",
        "\n",
        "criterion = nn.CrossEntropyLoss()\n",
        "optimizer = optim.Adam(model.parameters(), lr=0.001)"
      ],
      "metadata": {
        "id": "CnLB8-UAZBLy"
      },
      "execution_count": null,
      "outputs": []
    },
    {
      "cell_type": "code",
      "source": [
        "# train the model\n",
        "\n",
        "n_epochs = 10\n",
        "train_losses = []\n",
        "test_losses = []\n",
        "for epoch in range(n_epochs):\n",
        "    model.train()\n",
        "    running_loss = 0.0\n",
        "    for images, labels in train_loader:\n",
        "        optimizer.zero_grad()\n",
        "        outputs = model(images)\n",
        "        loss = criterion(outputs, labels)\n",
        "        loss.backward()\n",
        "        optimizer.step()\n",
        "        running_loss += loss.item()\n",
        "\n",
        "    train_losses.append(running_loss / len(train_loader))\n",
        "    print(f\"Epoch {epoch+1}/{n_epochs}, Training Loss: {running_loss / len(train_loader)}\")\n",
        "\n",
        "    # Evaluate the model on the test set\n",
        "    model.eval()\n",
        "    test_loss = 0.0\n",
        "    correct = 0\n",
        "    with torch.no_grad():\n",
        "        for images, labels in test_loader:\n",
        "            outputs = model(images)\n",
        "            loss = criterion(outputs, labels)\n",
        "            test_loss += loss.item()\n",
        "            _, predicted = torch.max(outputs, 1)\n",
        "            correct += (predicted == labels).sum().item()\n",
        "\n",
        "    test_losses.append(test_loss / len(test_loader))\n",
        "    accuracy = correct / len(test_loader.dataset)\n",
        "    print(f\"Test Loss: {test_loss / len(test_loader)}, Accuracy: {accuracy}\")"
      ],
      "metadata": {
        "id": "TfFoSCb_ZKBs"
      },
      "execution_count": null,
      "outputs": []
    },
    {
      "cell_type": "code",
      "source": [
        "# plotting training and test losses\n",
        "plt.figure(figsize=(12, 4))\n",
        "plt.subplot(1, 2, 1)\n",
        "plt.plot(train_losses, label='Train Loss')\n",
        "plt.title('Training Loss')\n",
        "plt.xlabel('Epoch')\n",
        "plt.ylabel('Loss')\n",
        "plt.legend()\n",
        "\n",
        "plt.subplot(1, 2, 2)\n",
        "plt.plot(test_losses, label='Test Loss')\n",
        "plt.title('Test Loss')\n",
        "plt.xlabel('Epoch')\n",
        "plt.ylabel('Loss')\n",
        "plt.legend()\n",
        "\n",
        "plt.show()"
      ],
      "metadata": {
        "id": "rd1BtAKGZKD9"
      },
      "execution_count": null,
      "outputs": []
    },
    {
      "cell_type": "code",
      "source": [
        "# visualizing some predictions\n",
        "images, labels = next(iter(test_loader))\n",
        "outputs = model(images)\n",
        "_, predicted = torch.max(outputs, 1)\n",
        "\n",
        "fig, axes = plt.subplots(3, 3, figsize=(9, 9))\n",
        "for i, ax in enumerate(axes.flat):\n",
        "    ax.imshow(images[i].squeeze(), cmap='gray')\n",
        "    ax.set_title(f\"Pred: {predicted[i]}, True: {labels[i]}\")\n",
        "    ax.axis('off')\n",
        "plt.tight_layout()\n",
        "plt.show()"
      ],
      "metadata": {
        "id": "DXKa7xT2ZKGY"
      },
      "execution_count": null,
      "outputs": []
    },
    {
      "cell_type": "code",
      "source": [
        "#scipy\n",
        "import numpy as np\n",
        "import matplotlib.pyplot as plt\n",
        "from scipy import optimize, integrate, interpolate, linalg"
      ],
      "metadata": {
        "id": "WLhHtm0JWsdX"
      },
      "execution_count": null,
      "outputs": []
    },
    {
      "cell_type": "code",
      "source": [
        "# example 1: optimization\n",
        "def objective_function(x):\n",
        "    return x**2 + 5*np.sin(x)\n",
        "\n",
        "result = optimize.minimize(objective_function, x0=2)\n",
        "print(f'Optimization Result: {result}')\n",
        "\n",
        "# plot the objective function and the minimum point\n",
        "x = np.linspace(-10, 10, 400)\n",
        "y = objective_function(x)\n",
        "plt.figure(figsize=(10, 6))\n",
        "plt.plot(x, y, label='Objective Function')\n",
        "plt.scatter(result.x, result.fun, color='red', label='Minimum Point')\n",
        "plt.legend()\n",
        "plt.title('Optimization Example')\n",
        "plt.xlabel('x')\n",
        "plt.ylabel('f(x)')\n",
        "plt.show()"
      ],
      "metadata": {
        "id": "MrkKTxS2ZUr4"
      },
      "execution_count": null,
      "outputs": []
    },
    {
      "cell_type": "code",
      "source": [
        "# example 2: integration\n",
        "def integrand(x):\n",
        "    return np.exp(-x**2)\n",
        "\n",
        "result, error = integrate.quad(integrand, -np.inf, np.inf)\n",
        "print(f'Integration Result: {result}, Error: {error}')"
      ],
      "metadata": {
        "colab": {
          "base_uri": "https://localhost:8080/"
        },
        "id": "osQirrtAZUuH",
        "outputId": "b7249647-4296-4556-843e-f3717f195525"
      },
      "execution_count": null,
      "outputs": [
        {
          "output_type": "stream",
          "name": "stdout",
          "text": [
            "Integration Result: 1.7724538509055159, Error: 1.4202636780944923e-08\n"
          ]
        }
      ]
    },
    {
      "cell_type": "code",
      "source": [
        "# example 3: interpolation\n",
        "x_data = np.linspace(0, 10, 10)\n",
        "y_data = np.sin(x_data)\n",
        "interp_function = interpolate.interp1d(x_data, y_data, kind='cubic')\n",
        "\n",
        "x_interp = np.linspace(0, 10, 100)\n",
        "y_interp = interp_function(x_interp)\n",
        "\n",
        "# plot the interpolation\n",
        "plt.figure(figsize=(10, 6))\n",
        "plt.plot(x_data, y_data, 'o', label='Data Points')\n",
        "plt.plot(x_interp, y_interp, '-', label='Cubic Interpolation')\n",
        "plt.legend()\n",
        "plt.title('Interpolation Example')\n",
        "plt.xlabel('x')\n",
        "plt.ylabel('y')\n",
        "plt.show()"
      ],
      "metadata": {
        "id": "_JvvBGTkZUwj"
      },
      "execution_count": null,
      "outputs": []
    },
    {
      "cell_type": "code",
      "source": [
        "# example 4: linear algebra\n",
        "A = np.array([[3, 2], [4, 1]])\n",
        "b = np.array([1, 2])\n",
        "x = linalg.solve(A, b)\n",
        "print(f'Solution to the linear system: {x}')\n",
        "\n",
        "# Verifying the solution\n",
        "print(f'Check: {np.dot(A, x)}')"
      ],
      "metadata": {
        "id": "-Qpu7BwhZUy-"
      },
      "execution_count": null,
      "outputs": []
    },
    {
      "cell_type": "code",
      "source": [
        "#sympy from https://www.sympy.org/en/index.html\n",
        "import sympy as sp"
      ],
      "metadata": {
        "id": "DGtDmpieWQ-2"
      },
      "execution_count": null,
      "outputs": []
    },
    {
      "cell_type": "code",
      "source": [
        "# symbolic algebra\n",
        "x, y = sp.symbols('x y')\n",
        "expr = x**2 + 2*x*y + y**2\n",
        "expanded_expr = sp.expand(expr)\n",
        "factored_expr = sp.factor(expanded_expr)\n",
        "\n",
        "print(f'Original Expression: {expr}')\n",
        "print(f'Expanded Expression: {expanded_expr}')\n",
        "print(f'Factored Expression: {factored_expr}')"
      ],
      "metadata": {
        "id": "lD4vX20AZxPx"
      },
      "execution_count": null,
      "outputs": []
    },
    {
      "cell_type": "code",
      "source": [
        "# calculus: differentiation and integration\n",
        "f = sp.sin(x) * sp.exp(x)\n",
        "f_prime = sp.diff(f, x)\n",
        "f_integral = sp.integrate(f, x)\n",
        "\n",
        "print(f'Function: {f}')\n",
        "print(f'Derivative: {f_prime}')\n",
        "print(f'Integral: {f_integral}')"
      ],
      "metadata": {
        "id": "zwnVXGgbZxSK"
      },
      "execution_count": null,
      "outputs": []
    },
    {
      "cell_type": "code",
      "source": [
        "# solving equations\n",
        "equation = sp.Eq(x**2 + 2*x - 8, 0)\n",
        "solutions = sp.solve(equation, x)\n",
        "\n",
        "print(f'Equation: {equation}')\n",
        "print(f'Solutions: {solutions}')"
      ],
      "metadata": {
        "id": "4fFXUvyFZxUz"
      },
      "execution_count": null,
      "outputs": []
    },
    {
      "cell_type": "code",
      "source": [
        "# solving a system of equations\n",
        "eq1 = sp.Eq(2*x + 3*y, 6)\n",
        "eq2 = sp.Eq(3*x + y, 5)\n",
        "solution = sp.solve((eq1, eq2), (x, y))\n",
        "\n",
        "print(f'Equation 1: {eq1}')\n",
        "print(f'Equation 2: {eq2}')\n",
        "print(f'Solution: {solution}')"
      ],
      "metadata": {
        "id": "hwKSfF1RZxXY"
      },
      "execution_count": null,
      "outputs": []
    },
    {
      "cell_type": "code",
      "source": [
        "# matrix operations\n",
        "A = sp.Matrix([[1, 2], [3, 4]])\n",
        "B = sp.Matrix([[2, 0], [1, 3]])\n",
        "product = A * B\n",
        "det_A = A.det()\n",
        "inv_A = A.inv()\n",
        "\n",
        "print(f'Matrix A: {A}')\n",
        "print(f'Matrix B: {B}')\n",
        "print(f'Product A*B: {product}')\n",
        "print(f'Determinant of A: {det_A}')\n",
        "print(f'Inverse of A: {inv_A}')"
      ],
      "metadata": {
        "id": "ka-_ll4dZ-B4"
      },
      "execution_count": null,
      "outputs": []
    },
    {
      "cell_type": "code",
      "source": [
        "# beautifulsoup from https://www.crummy.com/software/BeautifulSoup/bs4/doc/\n",
        "# import beautifulsoup\n",
        "# import requests\n"
      ],
      "metadata": {
        "id": "2bk_BV5DWxKA"
      },
      "execution_count": null,
      "outputs": []
    },
    {
      "cell_type": "code",
      "source": [
        "# step 1: make a request to the website https://example.com\n",
        "# refer to https://requests.readthedocs.io/en/latest/user/quickstart/\n"
      ],
      "metadata": {
        "id": "MJwetNxbaJcr"
      },
      "execution_count": null,
      "outputs": []
    },
    {
      "cell_type": "code",
      "source": [
        "# step 2: parse the HTML content\n",
        "# refer to https://www.crummy.com/software/BeautifulSoup/bs4/doc/\n"
      ],
      "metadata": {
        "id": "s9FQ73hcaJfM"
      },
      "execution_count": null,
      "outputs": []
    },
    {
      "cell_type": "code",
      "source": [
        "# step 3: extract and print the title of the webpage\n"
      ],
      "metadata": {
        "id": "q-z_GHU5aJhm"
      },
      "execution_count": null,
      "outputs": []
    },
    {
      "cell_type": "code",
      "source": [
        "# step 4: find and print all the headings (h1, h2, h3, etc.)\n"
      ],
      "metadata": {
        "id": "Z0uKd0FkaJkF"
      },
      "execution_count": null,
      "outputs": []
    },
    {
      "cell_type": "code",
      "source": [
        "# step 5: extract and print all the paragraph texts\n"
      ],
      "metadata": {
        "id": "typmZDDaaJl_"
      },
      "execution_count": null,
      "outputs": []
    },
    {
      "cell_type": "code",
      "source": [
        "# step 6: extract and print all the links (anchor tags)\n"
      ],
      "metadata": {
        "id": "DTsY9ngZaXTD"
      },
      "execution_count": null,
      "outputs": []
    },
    {
      "cell_type": "code",
      "source": [
        "# step 7: extract and print a specific element by its ID\n"
      ],
      "metadata": {
        "id": "A-ES6VOZaXVL"
      },
      "execution_count": null,
      "outputs": []
    },
    {
      "cell_type": "code",
      "source": [
        "# step 8: extract and print a specific element by its class name\n"
      ],
      "metadata": {
        "id": "7AFZzNuSaXXm"
      },
      "execution_count": null,
      "outputs": []
    },
    {
      "cell_type": "code",
      "source": [
        "# install scrapy library\n"
      ],
      "metadata": {
        "id": "2VfNFy7SbQ1N"
      },
      "execution_count": null,
      "outputs": []
    },
    {
      "cell_type": "code",
      "source": [
        "#scrapy from https://scrapy.org/\n",
        "import scrapy\n",
        "import os"
      ],
      "metadata": {
        "id": "ICa1FVdHWxMa"
      },
      "execution_count": null,
      "outputs": []
    },
    {
      "cell_type": "code",
      "source": [
        "# Create a new Scrapy project (replace 'myproject' with your project name)\n",
        "os.system('scrapy startproject myproject')"
      ],
      "metadata": {
        "colab": {
          "base_uri": "https://localhost:8080/"
        },
        "id": "Gh5_SnjwbDuo",
        "outputId": "e230e85d-b8c1-4cc3-f4ce-046ef084ba41"
      },
      "execution_count": null,
      "outputs": [
        {
          "output_type": "execute_result",
          "data": {
            "text/plain": [
              "0"
            ]
          },
          "metadata": {},
          "execution_count": 70
        }
      ]
    },
    {
      "cell_type": "code",
      "source": [
        "# create the spider file content\n",
        "spider_code = \"\"\"\n",
        "import scrapy\n",
        "\n",
        "class QuotesSpider(scrapy.Spider):\n",
        "    name = 'quotes'\n",
        "    start_urls = ['http://quotes.toscrape.com/']\n",
        "\n",
        "    def parse(self, response):\n",
        "        for quote in response.css('div.quote'):\n",
        "            text = quote.css('span.text::text').get()\n",
        "            author = quote.css('span small::text').get()\n",
        "            tags = quote.css('div.tags a.tag::text').getall()\n",
        "\n",
        "            yield {\n",
        "                'text': text,\n",
        "                'author': author,\n",
        "                'tags': tags,\n",
        "            }\n",
        "\n",
        "        next_page = response.css('li.next a::attr(href)').get()\n",
        "        if next_page is not None:\n",
        "            yield response.follow(next_page, callback=self.parse)\n",
        "\"\"\"\n",
        "\n",
        "# write the spider code to a file\n",
        "spider_file_path = '/content/myproject/myproject/spiders/quotes_spider.py'\n",
        "with open(spider_file_path, 'w') as file:\n",
        "    file.write(spider_code)"
      ],
      "metadata": {
        "id": "ZDsVH6N1aqgI"
      },
      "execution_count": null,
      "outputs": []
    },
    {
      "cell_type": "code",
      "source": [
        "from scrapy.crawler import CrawlerProcess\n",
        "from myproject.myproject.spiders.quotes_spider import QuotesSpider\n",
        "\n",
        "# run the spider\n",
        "process = CrawlerProcess(settings={\n",
        "    'FEED_FORMAT': 'json',\n",
        "    'FEED_URI': 'quotes.json',  # Output file\n",
        "    'LOG_ENABLED': False  # Disable logging (optional)\n",
        "})\n",
        "\n",
        "process.crawl(QuotesSpider)\n",
        "process.start()"
      ],
      "metadata": {
        "id": "Lvb4C1nmbYFp"
      },
      "execution_count": null,
      "outputs": []
    },
    {
      "cell_type": "code",
      "source": [
        "#sqlalchemy from https://www.sqlalchemy.org/\n",
        "\n",
        "import sqlalchemy\n",
        "from sqlalchemy import create_engine, Column, Integer, String\n",
        "from sqlalchemy.ext.declarative import declarative_base\n",
        "from sqlalchemy.orm import sessionmaker"
      ],
      "metadata": {
        "id": "zFOPFvAVWxO4"
      },
      "execution_count": null,
      "outputs": []
    },
    {
      "cell_type": "code",
      "source": [
        "# create an in-memory SQLite database\n",
        "engine = create_engine('sqlite:///:memory:', echo=True)\n",
        "\n",
        "# create a base class for declarative class definitions\n",
        "Base = declarative_base()\n",
        "\n",
        "# define a simple User class with a table name 'users'\n",
        "class User(Base):\n",
        "    __tablename__ = 'users'\n",
        "\n",
        "    id = Column(Integer, primary_key=True)\n",
        "    name = Column(String)\n",
        "    age = Column(Integer)\n",
        "\n",
        "    def __repr__(self):\n",
        "        return f\"<User(name='{self.name}', age={self.age})>\"\n",
        "\n",
        "# create all defined tables in the engine\n",
        "Base.metadata.create_all(engine)"
      ],
      "metadata": {
        "id": "XjOxzUJxbl3g"
      },
      "execution_count": null,
      "outputs": []
    },
    {
      "cell_type": "code",
      "source": [
        "# create a sessionmaker to handle database connections\n",
        "Session = sessionmaker(bind=engine)\n",
        "\n",
        "# create a session instance\n",
        "session = Session()\n",
        "\n",
        "# insert data into the 'users' table\n",
        "user1 = User(name='Alice', age=25)\n",
        "user2 = User(name='Bob', age=30)\n",
        "\n",
        "session.add(user1)\n",
        "session.add(user2)\n",
        "\n",
        "# commit the changes to the database\n",
        "session.commit()"
      ],
      "metadata": {
        "id": "3YENqC9Pbl6U"
      },
      "execution_count": null,
      "outputs": []
    },
    {
      "cell_type": "code",
      "source": [
        "# query the 'users' table and display the results\n",
        "users = session.query(User).all()\n",
        "\n",
        "for user in users:\n",
        "    print(user)"
      ],
      "metadata": {
        "id": "c-ORB9Y5bl8R"
      },
      "execution_count": null,
      "outputs": []
    },
    {
      "cell_type": "code",
      "source": [
        "# install psycopg2-binary to connect to a PostgreSQL database\n",
        "!pip install psycopg2-binary"
      ],
      "metadata": {
        "id": "WreqqpItb8s1"
      },
      "execution_count": null,
      "outputs": []
    },
    {
      "cell_type": "code",
      "source": [
        "#psycopg2 from https://www.psycopg.org/docs/\n",
        "import psycopg2\n",
        "\n",
        "# establish a connection to the PostgreSQL database (replace with your connection details)\n",
        "conn = psycopg2.connect(\n",
        "    host=\"your_host\",\n",
        "    database=\"your_database\",\n",
        "    user=\"your_username\",\n",
        "    password=\"your_password\"\n",
        ")\n",
        "\n",
        "# create a cursor object using the connection\n",
        "cur = conn.cursor()"
      ],
      "metadata": {
        "id": "NYOlTwAibl-n"
      },
      "execution_count": null,
      "outputs": []
    },
    {
      "cell_type": "code",
      "source": [
        "# create a table named 'users' if it does not exist\n",
        "cur.execute(\"\"\"\n",
        "    CREATE TABLE IF NOT EXISTS users (\n",
        "        id SERIAL PRIMARY KEY,\n",
        "        name VARCHAR(100),\n",
        "        age INT\n",
        "    )\n",
        "\"\"\")"
      ],
      "metadata": {
        "id": "dxp5K-vtbmBJ"
      },
      "execution_count": null,
      "outputs": []
    },
    {
      "cell_type": "code",
      "source": [
        "# insert data into the 'users' table\n",
        "cur.execute(\"INSERT INTO users (name, age) VALUES (%s, %s)\", ('Alice', 25))\n",
        "cur.execute(\"INSERT INTO users (name, age) VALUES (%s, %s)\", ('Bob', 30))\n",
        "\n",
        "# commit the transaction\n",
        "conn.commit()"
      ],
      "metadata": {
        "id": "VFZjpTpibmDa"
      },
      "execution_count": null,
      "outputs": []
    },
    {
      "cell_type": "code",
      "source": [
        "# query the 'users' table\n",
        "cur.execute(\"SELECT * FROM users\")\n",
        "rows = cur.fetchall()\n",
        "\n",
        "# display the results\n",
        "for row in rows:\n",
        "    print(row)"
      ],
      "metadata": {
        "id": "1s1iNO5qbmFz"
      },
      "execution_count": null,
      "outputs": []
    },
    {
      "cell_type": "code",
      "source": [
        "# close the cursor and connection\n",
        "cur.close()\n",
        "conn.close()"
      ],
      "metadata": {
        "id": "25y57KJxWxRV"
      },
      "execution_count": null,
      "outputs": []
    },
    {
      "cell_type": "code",
      "source": [
        "# install nltk library\n",
        "!pip install nltk"
      ],
      "metadata": {
        "id": "FsR6OzI5cP6M"
      },
      "execution_count": null,
      "outputs": []
    },
    {
      "cell_type": "code",
      "source": [
        "# refer to https://www.nltk.org/\n",
        "\n",
        "import nltk\n",
        "nltk.download('punkt')\n",
        "nltk.download('stopwords')\n",
        "nltk.download('averaged_perceptron_tagger')"
      ],
      "metadata": {
        "id": "i92-Q_D_WxT-"
      },
      "execution_count": null,
      "outputs": []
    },
    {
      "cell_type": "code",
      "source": [
        "from nltk.tokenize import word_tokenize\n",
        "\n",
        "# sample text\n",
        "text = \"NLTK is a leading platform for building Python programs to work with human language data.\"\n",
        "\n",
        "# tokenize the text\n",
        "tokens = word_tokenize(text)\n",
        "\n",
        "print(\"Original Text:\")\n",
        "print(text)\n",
        "print(\"\\nTokens:\")\n",
        "print(tokens)"
      ],
      "metadata": {
        "colab": {
          "base_uri": "https://localhost:8080/"
        },
        "id": "2RV4aSykcJnX",
        "outputId": "6145213c-628a-47d1-a510-152ec5628a80"
      },
      "execution_count": null,
      "outputs": [
        {
          "output_type": "stream",
          "name": "stdout",
          "text": [
            "Original Text:\n",
            "NLTK is a leading platform for building Python programs to work with human language data.\n",
            "\n",
            "Tokens:\n",
            "['NLTK', 'is', 'a', 'leading', 'platform', 'for', 'building', 'Python', 'programs', 'to', 'work', 'with', 'human', 'language', 'data', '.']\n"
          ]
        }
      ]
    },
    {
      "cell_type": "code",
      "source": [
        "from nltk.corpus import stopwords\n",
        "\n",
        "# remove stopwords\n",
        "stop_words = set(stopwords.words('english'))\n",
        "filtered_tokens = [word for word in tokens if word.lower() not in stop_words]\n",
        "\n",
        "print(\"\\nFiltered Tokens (without stopwords):\")\n",
        "print(filtered_tokens)"
      ],
      "metadata": {
        "colab": {
          "base_uri": "https://localhost:8080/"
        },
        "id": "H4AStoGPcJpo",
        "outputId": "1489a1cc-bc26-4d10-babb-c7dcd5d6c384"
      },
      "execution_count": null,
      "outputs": [
        {
          "output_type": "stream",
          "name": "stdout",
          "text": [
            "\n",
            "Filtered Tokens (without stopwords):\n",
            "['NLTK', 'leading', 'platform', 'building', 'Python', 'programs', 'work', 'human', 'language', 'data', '.']\n"
          ]
        }
      ]
    },
    {
      "cell_type": "code",
      "source": [
        "from nltk import pos_tag\n",
        "\n",
        "# perform Part-of-Speech tagging\n",
        "pos_tags = pos_tag(tokens)\n",
        "\n",
        "print(\"\\nPart-of-Speech Tags:\")\n",
        "print(pos_tags)"
      ],
      "metadata": {
        "colab": {
          "base_uri": "https://localhost:8080/"
        },
        "id": "D7VAaAbrcJsU",
        "outputId": "e8ecba7f-a7cf-452e-9436-43875f4c00c6"
      },
      "execution_count": null,
      "outputs": [
        {
          "output_type": "stream",
          "name": "stdout",
          "text": [
            "\n",
            "Part-of-Speech Tags:\n",
            "[('NLTK', 'NNP'), ('is', 'VBZ'), ('a', 'DT'), ('leading', 'VBG'), ('platform', 'NN'), ('for', 'IN'), ('building', 'VBG'), ('Python', 'NNP'), ('programs', 'NNS'), ('to', 'TO'), ('work', 'VB'), ('with', 'IN'), ('human', 'JJ'), ('language', 'NN'), ('data', 'NNS'), ('.', '.')]\n"
          ]
        }
      ]
    },
    {
      "cell_type": "code",
      "source": [
        "# install spacy library\n",
        "!pip install spacy\n",
        "!python -m spacy download en_core_web_sm"
      ],
      "metadata": {
        "id": "ewwbdghwclF4"
      },
      "execution_count": null,
      "outputs": []
    },
    {
      "cell_type": "code",
      "source": [
        "#spacy from https://spacy.io/\n",
        "import spacy"
      ],
      "metadata": {
        "id": "JfkSvCLQW4cf"
      },
      "execution_count": null,
      "outputs": []
    },
    {
      "cell_type": "code",
      "source": [
        "# Load the language model\n",
        "nlp = spacy.load('en_core_web_sm')"
      ],
      "metadata": {
        "id": "hMAwphZHcnkZ"
      },
      "execution_count": null,
      "outputs": []
    },
    {
      "cell_type": "code",
      "source": [
        "# sample text\n",
        "text = \"SpaCy is a powerful library for natural language processing in Python.\""
      ],
      "metadata": {
        "id": "-CngqqX9cnm1"
      },
      "execution_count": null,
      "outputs": []
    },
    {
      "cell_type": "code",
      "source": [
        "# process the text\n",
        "doc = nlp(text)"
      ],
      "metadata": {
        "id": "L16k5By-cnpN"
      },
      "execution_count": null,
      "outputs": []
    },
    {
      "cell_type": "code",
      "source": [
        "# tokenization and lemmatization\n",
        "tokens = [token.text for token in doc]\n",
        "lemmas = [token.lemma_ for token in doc]\n",
        "\n",
        "print(\"Original Text:\")\n",
        "print(text)\n",
        "print(\"\\nTokens:\")\n",
        "print(tokens)\n",
        "print(\"\\nLemmas:\")\n",
        "print(lemmas)"
      ],
      "metadata": {
        "id": "G-duQ7uBcnrm"
      },
      "execution_count": null,
      "outputs": []
    },
    {
      "cell_type": "code",
      "source": [
        "# Named Entity Recognition (NER)\n",
        "entities = [(entity.text, entity.label_) for entity in doc.ents]\n",
        "\n",
        "print(\"\\nNamed Entities:\")\n",
        "print(entities)"
      ],
      "metadata": {
        "id": "z0K-jiNEc0Uv"
      },
      "execution_count": null,
      "outputs": []
    },
    {
      "cell_type": "code",
      "source": [
        "# install Pillow library\n",
        "!pip install Pillow"
      ],
      "metadata": {
        "id": "fbvh8prqdBaJ"
      },
      "execution_count": null,
      "outputs": []
    },
    {
      "cell_type": "code",
      "source": [
        "# refer to https://python-pillow.org/\n",
        "from PIL import Image\n",
        "import requests\n",
        "from io import BytesIO"
      ],
      "metadata": {
        "id": "iONw1lI0W4e0"
      },
      "execution_count": null,
      "outputs": []
    },
    {
      "cell_type": "code",
      "source": [
        "# example image URL (replace with your own image URL)\n",
        "image_url = \"https://www.ikea.com/my/en/images/products/skogsfraeken-pillow-high__0789289_pe763916_s5.jpg?f=s\"\n",
        "\n",
        "# load image from URL\n",
        "response = requests.get(image_url)\n",
        "image = Image.open(BytesIO(response.content))"
      ],
      "metadata": {
        "id": "9s7_Uka7dCJr"
      },
      "execution_count": null,
      "outputs": []
    },
    {
      "cell_type": "code",
      "source": [
        "# display the original image\n",
        "display(image)"
      ],
      "metadata": {
        "id": "2PXOVaKWdCL6"
      },
      "execution_count": null,
      "outputs": []
    },
    {
      "cell_type": "code",
      "source": [
        "# get image dimensions\n",
        "width, height = image.size\n",
        "print(f\"Image size: {width} x {height}\")"
      ],
      "metadata": {
        "colab": {
          "base_uri": "https://localhost:8080/"
        },
        "id": "8Us9iBT-dCOI",
        "outputId": "b31c3adf-6a66-4718-b037-d3561f84c5cc"
      },
      "execution_count": null,
      "outputs": [
        {
          "output_type": "stream",
          "name": "stdout",
          "text": [
            "Image size: 600 x 600\n"
          ]
        }
      ]
    },
    {
      "cell_type": "code",
      "source": [
        "# resize the image\n",
        "new_size = (width // 2, height // 2)\n",
        "resized_image = image.resize(new_size)\n",
        "display(resized_image)"
      ],
      "metadata": {
        "id": "JHkOugfGdWP1"
      },
      "execution_count": null,
      "outputs": []
    },
    {
      "cell_type": "code",
      "source": [
        "# convert the image to grayscale\n",
        "grayscale_image = image.convert('L')\n",
        "display(grayscale_image)"
      ],
      "metadata": {
        "id": "8Gq3mW2odWSX"
      },
      "execution_count": null,
      "outputs": []
    },
    {
      "cell_type": "code",
      "source": [
        "# save the resized image\n",
        "resized_image.save(\"/content/resized_image.jpg\")\n",
        "\n",
        "# save the grayscale image\n",
        "grayscale_image.save(\"/content/grayscale_image.jpg\")"
      ],
      "metadata": {
        "id": "Vo9OAgWrdWU8"
      },
      "execution_count": null,
      "outputs": []
    },
    {
      "cell_type": "code",
      "source": [
        "# install opencv library\n",
        "!pip install opencv-python-headless"
      ],
      "metadata": {
        "colab": {
          "base_uri": "https://localhost:8080/"
        },
        "id": "Fvu9-XfGdj3L",
        "outputId": "2749a375-376d-4dd7-938c-31227ed9a137"
      },
      "execution_count": null,
      "outputs": [
        {
          "output_type": "stream",
          "name": "stdout",
          "text": [
            "Requirement already satisfied: opencv-python-headless in /usr/local/lib/python3.10/dist-packages (4.10.0.82)\n",
            "Requirement already satisfied: numpy>=1.21.2 in /usr/local/lib/python3.10/dist-packages (from opencv-python-headless) (1.25.2)\n"
          ]
        }
      ]
    },
    {
      "cell_type": "code",
      "source": [
        "#opencv from https://opencv.org/get-started/\n",
        "import cv2\n",
        "from matplotlib import pyplot as plt\n",
        "import numpy as np\n",
        "import urllib.request"
      ],
      "metadata": {
        "id": "JnPZMfNJW4hE"
      },
      "execution_count": null,
      "outputs": []
    },
    {
      "cell_type": "code",
      "source": [
        "# example image URL (replace with your own image URL)\n",
        "image_url = \"https://www.ikea.com/my/en/images/products/skogsfraeken-pillow-high__0789289_pe763916_s5.jpg?f=s\""
      ],
      "metadata": {
        "id": "IWdn6Khldf1G"
      },
      "execution_count": null,
      "outputs": []
    },
    {
      "cell_type": "code",
      "source": [
        "# load image from URL\n",
        "req = urllib.request.urlopen(image_url)\n",
        "arr = np.asarray(bytearray(req.read()), dtype=np.uint8)\n",
        "image = cv2.imdecode(arr, -1)  # Load image as it is (including alpha channel if present)"
      ],
      "metadata": {
        "id": "etfIq7avdf3k"
      },
      "execution_count": null,
      "outputs": []
    },
    {
      "cell_type": "code",
      "source": [
        "# display the original image using OpenCV (convert BGR to RGB for displaying with matplotlib)\n",
        "image_rgb = cv2.cvtColor(image, cv2.COLOR_BGR2RGB)\n",
        "plt.figure(figsize=(8, 6))\n",
        "plt.imshow(image_rgb)\n",
        "plt.axis('off')\n",
        "plt.title('Original Image')\n",
        "plt.show()"
      ],
      "metadata": {
        "colab": {
          "base_uri": "https://localhost:8080/",
          "height": 521
        },
        "id": "bquub5nldf6F",
        "outputId": "eadb78dc-d1dd-432f-9072-a9de90a8dec0"
      },
      "execution_count": null,
      "outputs": [
        {
          "output_type": "display_data",
          "data": {
            "text/plain": [
              "<Figure size 800x600 with 1 Axes>"
            ],
            "image/png": "[encoded data removed]"
          },
          "metadata": {}
        }
      ]
    },
    {
      "cell_type": "code",
      "source": [
        "# get image dimensions\n",
        "height, width, _ = image.shape\n",
        "print(f\"Image size: {width} x {height}\")"
      ],
      "metadata": {
        "colab": {
          "base_uri": "https://localhost:8080/"
        },
        "id": "CDGhiKrTdvcl",
        "outputId": "e38c4469-7c1e-45ba-e2c2-8ea47a2ad3c9"
      },
      "execution_count": null,
      "outputs": [
        {
          "output_type": "stream",
          "name": "stdout",
          "text": [
            "Image size: 600 x 600\n"
          ]
        }
      ]
    },
    {
      "cell_type": "code",
      "source": [
        "# resize the image using OpenCV\n",
        "new_size = (width // 2, height // 2)\n",
        "resized_image = cv2.resize(image, new_size)\n",
        "resized_image_rgb = cv2.cvtColor(resized_image, cv2.COLOR_BGR2RGB)\n",
        "plt.figure(figsize=(6, 4))\n",
        "plt.imshow(resized_image_rgb)\n",
        "plt.axis('off')\n",
        "plt.title('Resized Image')\n",
        "plt.show()"
      ],
      "metadata": {
        "colab": {
          "base_uri": "https://localhost:8080/",
          "height": 367
        },
        "id": "567_8gjZdve9",
        "outputId": "a394d6b3-0e89-421a-c694-c3b3c140ee3a"
      },
      "execution_count": null,
      "outputs": [
        {
          "output_type": "display_data",
          "data": {
            "text/plain": [
              "<Figure size 600x400 with 1 Axes>"
            ],
            "image/png": "[encoded data removed]"
          },
          "metadata": {}
        }
      ]
    },
    {
      "cell_type": "code",
      "source": [
        "# convert the image to grayscale using OpenCV\n",
        "gray_image = cv2.cvtColor(image, cv2.COLOR_BGR2GRAY)\n",
        "plt.figure(figsize=(6, 4))\n",
        "plt.imshow(gray_image, cmap='gray')\n",
        "plt.axis('off')\n",
        "plt.title('Grayscale Image')\n",
        "plt.show()"
      ],
      "metadata": {
        "colab": {
          "base_uri": "https://localhost:8080/",
          "height": 367
        },
        "id": "IMyU3HmgdvhV",
        "outputId": "1aa12d36-2de2-4c2e-ed07-04da5bf7acd2"
      },
      "execution_count": null,
      "outputs": [
        {
          "output_type": "display_data",
          "data": {
            "text/plain": [
              "<Figure size 600x400 with 1 Axes>"
            ],
            "image/png": "[encoded data removed]"
          },
          "metadata": {}
        }
      ]
    },
    {
      "cell_type": "code",
      "source": [
        "# save the resized image (convert back to BGR format for saving with OpenCV)\n",
        "cv2.imwrite('/content/resized_image.jpg', resized_image)\n",
        "\n",
        "# save the grayscale image\n",
        "cv2.imwrite('/content/grayscale_image.jpg', gray_image)"
      ],
      "metadata": {
        "id": "g00CeVN6dvj2"
      },
      "execution_count": null,
      "outputs": []
    },
    {
      "cell_type": "code",
      "source": [
        "# pandas from https://pandas.pydata.org/\n",
        "# import pandas library"
      ],
      "metadata": {
        "id": "EQZxGm0yW4jh"
      },
      "execution_count": 10,
      "outputs": []
    },
    {
      "cell_type": "code",
      "source": [
        "# sample data\n",
        "data = {\n",
        "    'Name': ['Alice', 'Bob', 'Charlie', 'David', 'Emily'],\n",
        "    'Age': [25, 30, 35, 28, 32],\n",
        "    'City': ['New York', 'Los Angeles', 'Chicago', 'Houston', 'Boston']\n",
        "}\n",
        "\n",
        "# create a DataFrame\n",
        "# refer to https://pandas.pydata.org/pandas-docs/stable/reference/api/pandas.DataFrame.html\n",
        "\n",
        "\n",
        "# display the DataFrame\n"
      ],
      "metadata": {
        "id": "-vrTHUgId69q"
      },
      "execution_count": null,
      "outputs": []
    },
    {
      "cell_type": "code",
      "source": [
        "# display the first few rows of the DataFrame\n",
        "# refer to https://pandas.pydata.org/docs/reference/api/pandas.DataFrame.head.html\n"
      ],
      "metadata": {
        "id": "j5tiMf56d7AK"
      },
      "execution_count": null,
      "outputs": []
    },
    {
      "cell_type": "code",
      "source": [
        "# accessing a specific column\n"
      ],
      "metadata": {
        "id": "lPaMxGh_d7CV"
      },
      "execution_count": null,
      "outputs": []
    },
    {
      "cell_type": "code",
      "source": [
        "# filter data based on a condition\n"
      ],
      "metadata": {
        "id": "C_BN_9cud7FM"
      },
      "execution_count": null,
      "outputs": []
    },
    {
      "cell_type": "code",
      "source": [
        "# add a new column\n"
      ],
      "metadata": {
        "id": "jXyJUCWleBTE"
      },
      "execution_count": null,
      "outputs": []
    },
    {
      "cell_type": "code",
      "source": [
        "# summary statistics\n",
        "# refer to https://pandas.pydata.org/docs/reference/api/pandas.DataFrame.describe.html\n"
      ],
      "metadata": {
        "id": "1H2eLtZmeBVf"
      },
      "execution_count": null,
      "outputs": []
    },
    {
      "cell_type": "code",
      "source": [
        "# import numpy\n",
        "# refer to https://numpy.org/\n"
      ],
      "metadata": {
        "id": "ROJaUqOBW4l_"
      },
      "execution_count": null,
      "outputs": []
    },
    {
      "cell_type": "code",
      "source": [
        "# create a 1D NumPy array\n",
        "# refer to https://numpy.org/doc/stable/reference/generated/numpy.array.html\n",
        "\n",
        "\n",
        "# create a 2D NumPy array (matrix)\n",
        "\n"
      ],
      "metadata": {
        "id": "3yu9M6SmeIml"
      },
      "execution_count": null,
      "outputs": []
    },
    {
      "cell_type": "code",
      "source": [
        "# access elements and slicing\n"
      ],
      "metadata": {
        "id": "CzYemMc3eIo4"
      },
      "execution_count": null,
      "outputs": []
    },
    {
      "cell_type": "code",
      "source": [
        "# reshape the array\n",
        "# refer to https://numpy.org/doc/stable/reference/generated/numpy.reshape.html\n"
      ],
      "metadata": {
        "id": "YXoFDpkdeRl5"
      },
      "execution_count": null,
      "outputs": []
    },
    {
      "cell_type": "code",
      "source": [
        "# element-wise operations\n"
      ],
      "metadata": {
        "id": "058nQC5ZeRoo"
      },
      "execution_count": null,
      "outputs": []
    },
    {
      "cell_type": "code",
      "source": [
        "# sum of elements\n"
      ],
      "metadata": {
        "id": "5L9nEccAeIrG"
      },
      "execution_count": null,
      "outputs": []
    },
    {
      "cell_type": "code",
      "source": [
        "# numpy functions\n"
      ],
      "metadata": {
        "id": "2ef0j4sVeUrU"
      },
      "execution_count": null,
      "outputs": []
    },
    {
      "cell_type": "code",
      "source": [
        "# matrix multiplication\n",
        "# refer to https://numpy.org/doc/stable/reference/generated/numpy.dot.html\n"
      ],
      "metadata": {
        "id": "nKZaQbs3eUtn"
      },
      "execution_count": null,
      "outputs": []
    },
    {
      "cell_type": "markdown",
      "source": [
        "## 09:45 am: Practical session 1"
      ],
      "metadata": {
        "id": "3PxK0DvxV7b4"
      }
    },
    {
      "cell_type": "code",
      "source": [
        "# series creation: create a pandas Series from a list of integers\n",
        "\n",
        "import pandas as pd\n",
        "\n",
        "# list of integers\n",
        "integer_list = [1, 2, 3, 4, 5]\n",
        "\n",
        "# create a pandas Series from the list\n",
        "\n",
        "\n",
        "# display the Series\n"
      ],
      "metadata": {
        "id": "EHN3Y7z_V78o"
      },
      "execution_count": null,
      "outputs": []
    },
    {
      "cell_type": "code",
      "source": [
        "# index and Slice: access specific elements and slices from the Series\n",
        "\n",
        "# access the first element\n",
        "# access the fourth element\n",
        "# slice from index 1 to 3 (end index is exclusive)\n",
        "# slice from the start to index 2\n",
        "# slice from index 2 to the end"
      ],
      "metadata": {
        "id": "O4ZLbXiYegkc"
      },
      "execution_count": null,
      "outputs": []
    },
    {
      "cell_type": "code",
      "source": [
        "# operations: perform basic arithmetic operations on the Series\n",
        "\n",
        "series1 = pd.Series([10, 20, 30, 40, 50])\n",
        "series2 = pd.Series([1, 2, 3, 4, 5])\n",
        "\n",
        "# addition\n",
        "\n",
        "\n",
        "# subtraction\n",
        "\n",
        "\n",
        "# multiplication\n",
        "\n",
        "\n",
        "# division\n"
      ],
      "metadata": {
        "id": "GyWriC4degmt"
      },
      "execution_count": null,
      "outputs": []
    },
    {
      "cell_type": "code",
      "source": [
        "# filter the Series to include only elements greater than a certain value\n",
        "\n",
        "series = pd.Series([10, 25, 5, 40, 15])\n",
        "\n",
        "# define the threshold value\n",
        "threshold = 20\n",
        "\n",
        "# filter elements greater than the threshold\n",
        "\n",
        "\n",
        "# Display the filtered Series\n",
        "print(\"Filtered Series:\")"
      ],
      "metadata": {
        "id": "Q1-I2zaVegpR"
      },
      "execution_count": null,
      "outputs": []
    },
    {
      "cell_type": "code",
      "source": [
        "# missingdData: introduce NaN values into the Series and handle them (e.g., fill with a value or drop)\n",
        "\n",
        "series = pd.Series([1, 2, np.nan, 4, np.nan, 6])\n",
        "\n",
        "# display the Series with NaN values\n",
        "\n",
        "\n",
        "# fill NaN with a specific value (e.g., 0)\n",
        "# refer to https://pandas.pydata.org/docs/reference/api/pandas.DataFrame.fillna.html\n",
        "\n",
        "\n",
        "# display the filled Series\n",
        "\n",
        "\n",
        "# drop NaN values\n",
        "# refer to https://pandas.pydata.org/docs/reference/api/pandas.DataFrame.dropna.html\n",
        "\n",
        "# display the cleaned Series\n"
      ],
      "metadata": {
        "id": "x-mZpiU-egsC"
      },
      "execution_count": null,
      "outputs": []
    },
    {
      "cell_type": "code",
      "source": [
        "# DataFrame creation: create a DataFrame from a dictionary where the keys are column names and the values are lists of column data\n",
        "\n",
        "data = {\n",
        "    'Name': ['Alice', 'Bob', 'Charlie', 'David'],\n",
        "    'Age': [25, 30, 35, 40],\n",
        "    'City': ['New York', 'Los Angeles', 'Chicago', 'Houston']\n",
        "}\n",
        "\n",
        "# create DataFrame from dictionary\n",
        "\n",
        "\n",
        "# display the DataFrame\n"
      ],
      "metadata": {
        "id": "mJs5K5Z0eguO"
      },
      "execution_count": null,
      "outputs": []
    },
    {
      "cell_type": "code",
      "source": [
        "# exploring data: display the first few rows, summary statistics, and data types of the DataFrame\n",
        "\n",
        "# display the first few rows (default is 5 rows)\n",
        "\n",
        "\n",
        "# summary statistics\n",
        "\n",
        "\n",
        "# data types of columns\n"
      ],
      "metadata": {
        "id": "skya0X-kouuf"
      },
      "execution_count": null,
      "outputs": []
    },
    {
      "cell_type": "code",
      "source": [
        "# indexing and selection: Select specific columns, rows, and subsets of the DataFrame\n",
        "\n",
        "# select specific columns\n",
        "\n",
        "\n",
        "# display selected columns\n",
        "\n",
        "\n",
        "# select specific rows by index position\n",
        "\n",
        "\n",
        "# display selected rows\n",
        "\n",
        "\n",
        "# select rows based on condition\n",
        "\n",
        "\n",
        "# display selected rows based on condition\n",
        "\n",
        "\n",
        "# select a subset of the DataFrame\n",
        "\n",
        "\n",
        "# display the subset\n"
      ],
      "metadata": {
        "id": "3AzKE3HKouw5"
      },
      "execution_count": null,
      "outputs": []
    },
    {
      "cell_type": "code",
      "source": [
        "# adding columns: add a new column to the DataFrame based on existing columns.\n",
        "\n",
        "# adding a column based on existing columns\n",
        "\n",
        "\n",
        "# display the DataFrame with the new column\n"
      ],
      "metadata": {
        "id": "zJveS4FWovDH"
      },
      "execution_count": null,
      "outputs": []
    },
    {
      "cell_type": "code",
      "source": [
        "# define a function to determine if person is adult\n",
        "\n",
        "# apply the function to create a new column 'IsAdult'\n",
        "# refer to https://pandas.pydata.org/docs/reference/api/pandas.DataFrame.apply.html\n",
        "\n",
        "\n",
        "# display the DataFrame with the new column\n"
      ],
      "metadata": {
        "id": "lGu4Y4XhqT2N"
      },
      "execution_count": null,
      "outputs": []
    },
    {
      "cell_type": "code",
      "source": [
        "# handling Missing Data: Introduce NaN values and demonstrate methods to handle missing data (e.g., fillna, dropna)\n",
        "\n",
        "import pandas as pd\n",
        "import numpy as np\n",
        "\n",
        "# Example DataFrame with NaN values\n",
        "data = {\n",
        "    'Name': ['Alice', 'Bob', 'Charlie', 'David', np.nan],\n",
        "    'Age': [25, np.nan, 35, 40, 45],\n",
        "    'City': ['New York', 'Los Angeles', np.nan, 'Houston', 'Dallas']\n",
        "}\n",
        "\n",
        "# create DataFrame\n",
        "\n",
        "\n",
        "# display the DataFrame with NaN values\n"
      ],
      "metadata": {
        "id": "ilkW74WnovI6"
      },
      "execution_count": null,
      "outputs": []
    },
    {
      "cell_type": "code",
      "source": [
        "# fill NaN with a specific value (e.g., 'Unknown' for 'Name', median for 'Age')\n",
        "\n",
        "\n",
        "# display the DataFrame with NaN filled\n"
      ],
      "metadata": {
        "id": "uErDMC2QqbW9"
      },
      "execution_count": null,
      "outputs": []
    },
    {
      "cell_type": "code",
      "source": [
        "# drop rows with NaN values\n",
        "\n",
        "\n",
        "# display the cleaned DataFrame\n"
      ],
      "metadata": {
        "id": "e1wq55CoqdOU"
      },
      "execution_count": null,
      "outputs": []
    },
    {
      "cell_type": "code",
      "source": [
        "# read data: read a csv file into a pandas DataFrame.\n",
        "\n",
        "# specify the file path\n",
        "file_path = 'https://raw.githubusercontent.com/MoH-Malaysia/covid19-public/main/static/population.csv'\n",
        "\n",
        "# read the CSV file into a DataFrame\n",
        "# refer to https://pandas.pydata.org/docs/reference/api/pandas.read_csv.html\n",
        "\n",
        "# display the DataFrame\n"
      ],
      "metadata": {
        "id": "dUJpiEqKovO5"
      },
      "execution_count": null,
      "outputs": []
    },
    {
      "cell_type": "code",
      "source": [
        "# filter data: filter rows based on a condition.\n",
        "\n",
        "data = {\n",
        "    'Name': ['Alice', 'Bob', 'Charlie', 'David'],\n",
        "    'Age': [25, 30, 35, 40],\n",
        "    'City': ['New York', 'Los Angeles', 'Chicago', 'Houston']\n",
        "}\n",
        "\n",
        "# create the DataFrame\n",
        "\n",
        "\n",
        "# filter rows based on City == 'New York'\n",
        "\n",
        "\n",
        "# display the filtered DataFrame\n"
      ],
      "metadata": {
        "id": "Xh0EY7wMovU6"
      },
      "execution_count": null,
      "outputs": []
    },
    {
      "cell_type": "code",
      "source": [
        "# filter rows based on Age > 30\n",
        "\n",
        "\n",
        "# display the filtered DataFrame\n"
      ],
      "metadata": {
        "id": "-sE4PWlnq-zz"
      },
      "execution_count": null,
      "outputs": []
    },
    {
      "cell_type": "code",
      "source": [
        "# sort data: sort the DataFrame by a specific column\n",
        "\n",
        "# sort DataFrame by 'Age' in ascending order\n",
        "\n",
        "\n",
        "# display the sorted DataFrame\n"
      ],
      "metadata": {
        "id": "t8XN2mCCova2"
      },
      "execution_count": null,
      "outputs": []
    },
    {
      "cell_type": "code",
      "source": [
        "# sort DataFrame by 'Age' in descending order\n",
        "\n",
        "\n",
        "# display the sorted DataFrame\n"
      ],
      "metadata": {
        "id": "1ac5X2HmrFc-"
      },
      "execution_count": null,
      "outputs": []
    },
    {
      "cell_type": "code",
      "source": [
        "# group data: Group the DataFrame by a column and compute aggregate statistics\n",
        "\n",
        "data = {\n",
        "    'Name': ['Alice', 'Bob', 'Charlie', 'David', 'Alice', 'Bob', 'Charlie', 'David'],\n",
        "    'Age': [25, 30, 35, 40, 28, 32, 37, 42],\n",
        "    'City': ['New York', 'Los Angeles', 'Chicago', 'Houston', 'New York', 'Los Angeles', 'Chicago', 'Houston'],\n",
        "    'Salary': [60000, 80000, 75000, 90000, 62000, 85000, 78000, 95000]\n",
        "}\n",
        "\n",
        "# create DataFrame\n"
      ],
      "metadata": {
        "id": "aNWy_1D6egwc"
      },
      "execution_count": null,
      "outputs": []
    },
    {
      "cell_type": "code",
      "source": [
        "# group DataFrame by 'City' and calculate average salary\n",
        "# refer to https://pandas.pydata.org/docs/reference/api/pandas.DataFrame.groupby.html\n",
        "\n",
        "\n",
        "# display the grouped DataFrame\n"
      ],
      "metadata": {
        "id": "Anp1g1pcrPTu"
      },
      "execution_count": null,
      "outputs": []
    },
    {
      "cell_type": "code",
      "source": [
        "# group DataFrame by 'Name' and calculate count and maximum age\n",
        "\n",
        "\n",
        "# display the grouped DataFrame\n"
      ],
      "metadata": {
        "id": "QWyUTw3trPX6"
      },
      "execution_count": null,
      "outputs": []
    },
    {
      "cell_type": "code",
      "source": [
        "# merging DataFrames: merge two DataFrames on a common column\n",
        "\n",
        "# first DataFrame\n",
        "data1 = {\n",
        "    'Employee': ['Alice', 'Bob', 'Charlie', 'David'],\n",
        "    'Department': ['HR', 'Engineering', 'Finance', 'Marketing']\n",
        "}\n",
        "\n",
        "df1 = pd.DataFrame(data1)\n",
        "\n",
        "# second DataFrame\n",
        "data2 = {\n",
        "    'Employee': ['Alice', 'Bob', 'Charlie', 'David'],\n",
        "    'Salary': [60000, 80000, 75000, 90000]\n",
        "}\n",
        "\n",
        "df2 = pd.DataFrame(data2)"
      ],
      "metadata": {
        "id": "1sxoukPxegzD"
      },
      "execution_count": null,
      "outputs": []
    },
    {
      "cell_type": "code",
      "source": [
        "# merge DataFrames on 'Employee' column\n",
        "# refer to https://pandas.pydata.org/docs/reference/api/pandas.DataFrame.merge.html\n",
        "\n",
        "\n",
        "# display the merged DataFrame\n"
      ],
      "metadata": {
        "id": "_AEqymuqrXnI"
      },
      "execution_count": null,
      "outputs": []
    },
    {
      "cell_type": "code",
      "source": [
        "# array creation: Create a 1D NumPy array of integers from 0 to 9.\n",
        "\n",
        "\n",
        "# create a 1D NumPy array from 0 to 9\n",
        "# refer to https://numpy.org/doc/stable/reference/generated/numpy.arange.html\n",
        "\n",
        "\n",
        "# display the array\n"
      ],
      "metadata": {
        "id": "zP235acMo9nl"
      },
      "execution_count": null,
      "outputs": []
    },
    {
      "cell_type": "code",
      "source": [
        "# reshape: convert the 1D array into a 2D array with 2 rows and 5 columns\n",
        "\n",
        "# create a 1D NumPy array from 0 to 9\n",
        "\n",
        "\n",
        "# reshape the array to 2D with 2 rows and 5 columns\n",
        "# refer to https://numpy.org/doc/stable/reference/generated/numpy.reshape.html\n",
        "\n",
        "\n",
        "# display the reshaped 2D array\n"
      ],
      "metadata": {
        "id": "9UGz3Ekwo9qO"
      },
      "execution_count": null,
      "outputs": []
    },
    {
      "cell_type": "code",
      "source": [
        "# slicing: extract the first row and the second column of the 2D array\n",
        "\n",
        "# extracting the first row\n",
        "\n",
        "\n",
        "# extracting the second column\n",
        "\n"
      ],
      "metadata": {
        "id": "NBgVtTR0o9tu"
      },
      "execution_count": null,
      "outputs": []
    },
    {
      "cell_type": "code",
      "source": [
        "# arithmetic operations: create another 2D array of the same shape and perform element-wise addition, subtraction, multiplication, and division\n",
        "\n",
        "import numpy as np\n",
        "\n",
        "# create two 2D NumPy arrays of the same shape\n",
        "arr1 = np.array([[1, 2, 3],\n",
        "                 [4, 5, 6]])\n",
        "\n",
        "arr2 = np.array([[7, 8, 9],\n",
        "                 [10, 11, 12]])\n",
        "\n",
        "# perform element-wise addition\n",
        "\n",
        "\n",
        "# perform element-wise subtraction\n",
        "\n",
        "\n",
        "# perform element-wise multiplication\n",
        "\n",
        "\n",
        "# perform element-wise division (handling division by zero with np.where)\n",
        "\n",
        "\n",
        "# display the results\n",
        "\n"
      ],
      "metadata": {
        "id": "QEC7gAeTo9xD"
      },
      "execution_count": null,
      "outputs": []
    },
    {
      "cell_type": "code",
      "source": [
        "# statistical operations: compute the mean, median, and standard deviation of the elements in the 2D array\n",
        "\n",
        "import numpy as np\n",
        "\n",
        "# Create a 2D NumPy array\n",
        "arr = np.array([[1, 2, 3],\n",
        "                [4, 5, 6],\n",
        "                [7, 8, 9]])\n",
        "\n",
        "# compute mean, median, and standard deviation\n",
        "\n",
        "\n",
        "# display the results\n",
        "\n"
      ],
      "metadata": {
        "id": "h81XwLW8o90K"
      },
      "execution_count": null,
      "outputs": []
    },
    {
      "cell_type": "markdown",
      "source": [
        "## 11:00 am: Introduction to time series data"
      ],
      "metadata": {
        "id": "0buu3vq3V7eT"
      }
    },
    {
      "cell_type": "code",
      "source": [
        "# import necessary libraries\n",
        "import pandas as pd\n",
        "import numpy as np\n",
        "import matplotlib.pyplot as plt\n",
        "\n",
        "# example: dengue cases over time (simplified data)\n",
        "# create a DataFrame with date and dengue cases\n",
        "data = {\n",
        "    'Date': pd.date_range(start='2023-01-01', periods=12, freq='M'),\n",
        "    'Dengue_Cases': [25, 30, 28, 32, 40, 50, 45, 48, 55, 52, 60, 65]\n",
        "}\n",
        "\n",
        "df = pd.DataFrame(data)\n",
        "\n",
        "# convert 'Date' column to datetime format (if not already)\n",
        "\n",
        "\n",
        "# set the 'Date' column as the index\n",
        "\n",
        "\n",
        "# print the DataFrame to show the time series structure\n",
        "\n",
        "\n",
        "# visualize the data to explain time series trends\n"
      ],
      "metadata": {
        "id": "LTsiC90EWDU4"
      },
      "execution_count": null,
      "outputs": []
    },
    {
      "cell_type": "code",
      "source": [
        "# explain basic operations\n",
        "# calculate the moving average (3 months) as a simple time series analysis\n",
        "# refer to https://pandas.pydata.org/docs/reference/api/pandas.DataFrame.rolling.html\n"
      ],
      "metadata": {
        "id": "NxSXLS2-sFqu"
      },
      "execution_count": null,
      "outputs": []
    },
    {
      "cell_type": "code",
      "source": [
        "# display DataFrame with moving average\n"
      ],
      "metadata": {
        "id": "zPkILLN3_hyY"
      },
      "execution_count": null,
      "outputs": []
    },
    {
      "cell_type": "code",
      "source": [
        "# check trends and seasonality\n",
        "# differencing to remove trend\n"
      ],
      "metadata": {
        "id": "b9l2Una4_h0y"
      },
      "execution_count": null,
      "outputs": []
    },
    {
      "cell_type": "code",
      "source": [],
      "metadata": {
        "id": "5jZI9aAn_h3N"
      },
      "execution_count": null,
      "outputs": []
    },
    {
      "cell_type": "code",
      "source": [
        "# plot the differenced data\n"
      ],
      "metadata": {
        "id": "AIQixVDe_h6D"
      },
      "execution_count": null,
      "outputs": []
    },
    {
      "cell_type": "markdown",
      "source": [
        "### Key concepts\n",
        "1. **Time Series Definition**: Data points indexed by time (in this case, dengue cases over a 12-month period).\n",
        "2. **Handling Time Series in Pandas**: How to manipulate and analyze time-dependent data.\n",
        "3. **Basic Analysis**: Introduction to simple concepts like moving averages to smooth the data, and differencing to remove trends.\n",
        "4. **Visualization**: Graphing the time series helps make patterns and trends clear."
      ],
      "metadata": {
        "id": "kj0PcJt5_7vN"
      }
    },
    {
      "cell_type": "code",
      "source": [
        "# stock prices over time\n",
        "\n",
        "import pandas as pd\n",
        "import numpy as np\n",
        "import matplotlib.pyplot as plt\n",
        "\n",
        "# generate random stock prices data for 1 year (252 trading days)\n",
        "\n",
        "# Visualize the stock price\n"
      ],
      "metadata": {
        "id": "qCNvi6Cg_1DB"
      },
      "execution_count": null,
      "outputs": []
    },
    {
      "cell_type": "code",
      "source": [
        "import pandas as pd\n",
        "import numpy as np\n",
        "import matplotlib.pyplot as plt\n",
        "\n",
        "# simulate daily temperature over 1 year\n",
        "\n",
        "\n",
        "# plotting temperature data\n"
      ],
      "metadata": {
        "id": "_zYxgt1R_1Ff"
      },
      "execution_count": null,
      "outputs": []
    },
    {
      "cell_type": "markdown",
      "source": [
        "### Trend\n",
        "\n",
        "1.   A trend is a long-term increase or decrease in the data.\n",
        "2.   Example: Stock prices or population growth.\n",
        "\n"
      ],
      "metadata": {
        "id": "v2Mx4PZyAhEN"
      }
    },
    {
      "cell_type": "code",
      "source": [
        "\n",
        "\n",
        "# Plot original data with moving average to highlight the trend\n"
      ],
      "metadata": {
        "id": "VaYY0fGW_1I3"
      },
      "execution_count": null,
      "outputs": []
    },
    {
      "cell_type": "markdown",
      "source": [
        "### Seasonality\n",
        "\n",
        "1.   Seasonality refers to periodic patterns in time series data that repeat over regular intervals, such as daily, monthly, or yearly.\n",
        "2.   Temperature fluctuations over the year."
      ],
      "metadata": {
        "id": "LEoAAuUECpWP"
      }
    },
    {
      "cell_type": "code",
      "source": [
        "# plot the temperature data (with seasonality)\n"
      ],
      "metadata": {
        "id": "p8ZaJAFSAXsF"
      },
      "execution_count": null,
      "outputs": []
    },
    {
      "cell_type": "markdown",
      "source": [
        "### Cyclic Patterns\n",
        "\n",
        "1. Cyclic patterns are fluctuations that occur over irregular time periods, typically over years.\n",
        "2. Example: Economic cycles, business cycles."
      ],
      "metadata": {
        "id": "mFokhk085N74"
      }
    },
    {
      "cell_type": "markdown",
      "source": [
        "### Noise\n",
        "\n",
        "Noise refers to random variations that cannot be explained by trend or seasonality."
      ],
      "metadata": {
        "id": "mNuRmtCP5Z0t"
      }
    },
    {
      "cell_type": "code",
      "source": [
        "# plot temperature with added noise\n"
      ],
      "metadata": {
        "id": "a7o90dsqAXuf"
      },
      "execution_count": null,
      "outputs": []
    },
    {
      "cell_type": "markdown",
      "source": [
        "### Stationarity\n",
        "\n",
        "1. A time series is stationary if its properties, such as mean and variance, do not change over time.\n",
        "2. Example: Random white noise."
      ],
      "metadata": {
        "id": "Scl1kYH25mwq"
      }
    },
    {
      "cell_type": "code",
      "source": [
        "# plot differenced data"
      ],
      "metadata": {
        "id": "IebhLPv_AXxs"
      },
      "execution_count": null,
      "outputs": []
    },
    {
      "cell_type": "markdown",
      "source": [
        "### Load from API"
      ],
      "metadata": {
        "id": "pdjxm5AO64-6"
      }
    },
    {
      "cell_type": "code",
      "source": [
        "import yfinance as yf\n",
        "import matplotlib.pyplot as plt\n",
        "\n",
        "# Load stock data for Apple (AAPL) over 1 year\n",
        "ticker = 'AAPL'\n",
        "df = yf.download(ticker, start='2023-01-01', end='2023-12-31')\n",
        "\n",
        "# Display the first few rows\n",
        "print(\"First 5 rows of AAPL stock data:\\n\", df.head())\n",
        "\n",
        "# Plotting the stock's closing price\n",
        "plt.figure(figsize=(10, 5))\n",
        "plt.plot(df.index, df['Close'], label='AAPL Close Price', color='green')\n",
        "plt.title('AAPL Stock Closing Prices')\n",
        "plt.xlabel('Date')\n",
        "plt.ylabel('Price (USD)')\n",
        "plt.legend()\n",
        "plt.grid(True)\n",
        "plt.show()\n",
        "\n",
        "# Checking for missing data\n",
        "print(\"\\nMissing data:\\n\", df.isnull().sum())\n"
      ],
      "metadata": {
        "id": "Dda4KuwZAXzl"
      },
      "execution_count": null,
      "outputs": []
    },
    {
      "cell_type": "markdown",
      "source": [
        "### Use Built-in Datasets"
      ],
      "metadata": {
        "id": "5XFdqNmq7EzY"
      }
    },
    {
      "cell_type": "code",
      "source": [
        "import pandas as pd\n",
        "import matplotlib.pyplot as plt\n",
        "\n",
        "# Load built-in dataset\n",
        "url = 'https://raw.githubusercontent.com/jbrownlee/Datasets/master/airline-passengers.csv'\n",
        "df = pd.read_csv(url, parse_dates=['Month'], index_col='Month')\n",
        "\n",
        "# Display first few rows\n",
        "print(\"First 5 rows of Airline Passengers data:\\n\", df.head())\n",
        "\n",
        "# Plotting the number of passengers over time\n",
        "plt.figure(figsize=(10, 5))\n",
        "plt.plot(df.index, df['Passengers'], color='purple')\n",
        "plt.title('Airline Passengers Over Time')\n",
        "plt.xlabel('Date')\n",
        "plt.ylabel('Number of Passengers')\n",
        "plt.grid(True)\n",
        "plt.show()\n",
        "\n",
        "# Basic statistics\n",
        "print(\"\\nDescriptive Statistics:\\n\", df.describe())\n",
        "\n",
        "# Checking for seasonality and trends\n",
        "df['12_Month_Moving_Avg'] = df['Passengers'].rolling(window=12).mean()\n",
        "\n",
        "plt.figure(figsize=(10, 5))\n",
        "plt.plot(df.index, df['Passengers'], label='Original', color='purple')\n",
        "plt.plot(df.index, df['12_Month_Moving_Avg'], label='12-Month Moving Avg', color='red')\n",
        "plt.title('Airline Passengers with 12-Month Moving Average')\n",
        "plt.xlabel('Date')\n",
        "plt.ylabel('Number of Passengers')\n",
        "plt.legend()\n",
        "plt.grid(True)\n",
        "plt.show()\n"
      ],
      "metadata": {
        "id": "VeNjVZKnAX2m"
      },
      "execution_count": null,
      "outputs": []
    },
    {
      "cell_type": "markdown",
      "source": [
        "### Load from a database"
      ],
      "metadata": {
        "id": "5w_G6-Zi7SmX"
      }
    },
    {
      "cell_type": "code",
      "source": [
        "import pandas as pd\n",
        "import sqlite3\n",
        "import matplotlib.pyplot as plt\n",
        "\n",
        "# Connect to SQLite database (assuming database.db and time_series_data table exist)\n",
        "conn = sqlite3.connect('database.db')\n",
        "\n",
        "# Query to load time series data\n",
        "query = '''\n",
        "SELECT Date, Value\n",
        "FROM time_series_data\n",
        "WHERE Date BETWEEN '2023-01-01' AND '2023-12-31'\n",
        "'''\n",
        "\n",
        "# Load data into pandas DataFrame\n",
        "df = pd.read_sql_query(query, conn, parse_dates=['Date'])\n",
        "\n",
        "# Set Date column as index for time series\n",
        "df.set_index('Date', inplace=True)\n",
        "\n",
        "# Close the connection\n",
        "conn.close()\n",
        "\n",
        "# Display first few rows\n",
        "print(\"First 5 rows from the database:\\n\", df.head())\n",
        "\n",
        "# Plot the time series data\n",
        "plt.figure(figsize=(10, 5))\n",
        "plt.plot(df.index, df['Value'], color='orange')\n",
        "plt.title('Time Series Data from SQL Database')\n",
        "plt.xlabel('Date')\n",
        "plt.ylabel('Value')\n",
        "plt.grid(True)\n",
        "plt.show()\n",
        "\n",
        "# Descriptive statistics\n",
        "print(\"\\nDescriptive Statistics:\\n\", df.describe())"
      ],
      "metadata": {
        "id": "W17TYqP17MWa"
      },
      "execution_count": null,
      "outputs": []
    },
    {
      "cell_type": "markdown",
      "source": [
        "### Resample data\n",
        "\n",
        "You may want to change the frequency of time series data (e.g., from daily to monthly)."
      ],
      "metadata": {
        "id": "CM6iL-Lk9wnR"
      }
    },
    {
      "cell_type": "code",
      "source": [
        "# resample to monthly, taking the mean\n"
      ],
      "metadata": {
        "id": "XhW6ceYl7MY9"
      },
      "execution_count": null,
      "outputs": []
    },
    {
      "cell_type": "markdown",
      "source": [
        "### Missing data\n",
        "\n",
        "Missing data is common in time series, and Pandas provides several ways to handle it."
      ],
      "metadata": {
        "id": "dbbGO1Ln-XuR"
      }
    },
    {
      "cell_type": "code",
      "source": [
        "# forward fill missing values\n",
        "\n",
        "\n",
        "# plot original vs filled data\n",
        "\n"
      ],
      "metadata": {
        "id": "tW01cElO9wH0"
      },
      "execution_count": null,
      "outputs": []
    },
    {
      "cell_type": "markdown",
      "source": [
        "### Decompose time series\n",
        "\n",
        "Time series decomposition separates the data into trend, seasonality, and residual (noise)."
      ],
      "metadata": {
        "id": "-M7z_AgI-ptW"
      }
    },
    {
      "cell_type": "code",
      "source": [
        "# refer to https://www.statsmodels.org/stable/generated/statsmodels.tsa.seasonal.seasonal_decompose.html\n"
      ],
      "metadata": {
        "id": "0_cgCUDz9wKn"
      },
      "execution_count": null,
      "outputs": []
    },
    {
      "cell_type": "markdown",
      "source": [
        "## 12:00 pm: Basic data cleaning techniques"
      ],
      "metadata": {
        "id": "ZdLJm5rjWE1X"
      }
    },
    {
      "cell_type": "markdown",
      "source": [
        "### Handling missing values"
      ],
      "metadata": {
        "id": "FaXHdEgk_Fga"
      }
    },
    {
      "cell_type": "code",
      "source": [
        "import pandas as pd\n",
        "\n",
        "# sample dataset with missing values\n",
        "data = {\n",
        "    'Date': ['2023-01-01', '2023-01-02', '2023-01-03', '2023-01-04', None],\n",
        "    'Sales': [100, None, 200, 150, 130],\n",
        "    'Discount': [5, 10, None, 7, 5]\n",
        "}\n",
        "\n",
        "df = pd.DataFrame(data)\n",
        "print(\"Original DataFrame with missing values:\\n\", df)"
      ],
      "metadata": {
        "id": "_eYZIj6KWFha"
      },
      "execution_count": null,
      "outputs": []
    },
    {
      "cell_type": "code",
      "source": [
        "# drop rows with missing values\n",
        "# refer to https://pandas.pydata.org/docs/reference/api/pandas.DataFrame.dropna.html\n"
      ],
      "metadata": {
        "id": "9-1dPRKr_lkE"
      },
      "execution_count": null,
      "outputs": []
    },
    {
      "cell_type": "code",
      "source": [
        "# fill missing values with a specific value (e.g., 0 for numerical columns)\n",
        "# refer to https://pandas.pydata.org/docs/reference/api/pandas.DataFrame.fillna.html\n"
      ],
      "metadata": {
        "id": "m-w7frgQ_lmf"
      },
      "execution_count": null,
      "outputs": []
    },
    {
      "cell_type": "code",
      "source": [
        "# forward fill missing values (propagate previous value forward)\n",
        "\n",
        "\n",
        "# backward fill missing values (propagate next value backward)\n"
      ],
      "metadata": {
        "id": "y4EYXODy_lpF"
      },
      "execution_count": null,
      "outputs": []
    },
    {
      "cell_type": "markdown",
      "source": [
        "### Imputation\n",
        "\n",
        "Imputation replaces missing data with statistical measures such as the mean, median, or mode."
      ],
      "metadata": {
        "id": "AlL65N65_GLF"
      }
    },
    {
      "cell_type": "code",
      "source": [
        "# fill missing 'Sales' values with the mean of the 'Sales' column\n",
        "\n",
        "\n",
        "# fill missing 'Discount' values with the median of the 'Discount' column\n"
      ],
      "metadata": {
        "id": "XErFXEQh_GTl"
      },
      "execution_count": null,
      "outputs": []
    },
    {
      "cell_type": "markdown",
      "source": [
        "### Interpolation\n",
        "\n",
        "Interpolation estimates missing values based on nearby values."
      ],
      "metadata": {
        "id": "GeFyFy4Z_GaT"
      }
    },
    {
      "cell_type": "code",
      "source": [
        "# interpolate missing 'Sales' and 'Discount' values\n"
      ],
      "metadata": {
        "id": "NlFvZcYV_GhS"
      },
      "execution_count": null,
      "outputs": []
    },
    {
      "cell_type": "markdown",
      "source": [
        "Pandas provides different interpolation methods like `linear`, `polynomial`, or `time`. You can adjust this by specifying the method in the `interpolate()` function.\n",
        "\n"
      ],
      "metadata": {
        "id": "-JxNAms6ACqk"
      }
    },
    {
      "cell_type": "markdown",
      "source": [
        "### Remove duplicates"
      ],
      "metadata": {
        "id": "U0xtwxfv_TGq"
      }
    },
    {
      "cell_type": "code",
      "source": [],
      "metadata": {
        "id": "vO6zLzZcAbIh"
      },
      "execution_count": null,
      "outputs": []
    },
    {
      "cell_type": "code",
      "source": [
        "# adding duplicate rows for demonstration\n",
        "\n",
        "\n",
        "# remove duplicate rows\n"
      ],
      "metadata": {
        "id": "SOQbY3ZH_TN3"
      },
      "execution_count": null,
      "outputs": []
    },
    {
      "cell_type": "markdown",
      "source": [
        "### Data type conversion"
      ],
      "metadata": {
        "id": "sC1OO2yS_Wn_"
      }
    },
    {
      "cell_type": "code",
      "source": [
        "# dataset with inconsistent data types\n",
        "data = {\n",
        "    'Date': ['2023-01-01', '2023-01-02', '2023-01-03'],\n",
        "    'Sales': ['100', '200', '300'],\n",
        "    'Active': [1, 0, 'yes']\n",
        "}\n",
        "df = pd.DataFrame(data)\n",
        "print(\"\\nOriginal DataFrame with inconsistent data types:\\n\", df)"
      ],
      "metadata": {
        "id": "41qInrom_Wte"
      },
      "execution_count": null,
      "outputs": []
    },
    {
      "cell_type": "code",
      "source": [
        "# check data types\n",
        "# refer to https://pandas.pydata.org/pandas-docs/stable/reference/api/pandas.DataFrame.dtypes.html"
      ],
      "metadata": {
        "id": "y8kNerS1A5a8"
      },
      "execution_count": null,
      "outputs": []
    },
    {
      "cell_type": "code",
      "source": [
        "# convert 'Sales' from string to integer\n"
      ],
      "metadata": {
        "id": "_H_Hpdo1AzlG"
      },
      "execution_count": null,
      "outputs": []
    },
    {
      "cell_type": "code",
      "source": [
        "# convert 'Date' to datetime\n"
      ],
      "metadata": {
        "id": "hDmxK6yLAznm"
      },
      "execution_count": null,
      "outputs": []
    },
    {
      "cell_type": "code",
      "source": [
        "# convert 'Active' column to consistent binary values (0 or 1)\n"
      ],
      "metadata": {
        "id": "L8TJi4CxAzqc"
      },
      "execution_count": null,
      "outputs": []
    },
    {
      "cell_type": "code",
      "source": [
        "# check data types"
      ],
      "metadata": {
        "id": "hno5jENsA990"
      },
      "execution_count": null,
      "outputs": []
    },
    {
      "cell_type": "markdown",
      "source": [
        "### Validation of data"
      ],
      "metadata": {
        "id": "k6tlRD5R_XGr"
      }
    },
    {
      "cell_type": "code",
      "source": [
        "# check for invalid dates (NaT)\n"
      ],
      "metadata": {
        "id": "GGa1O03Q_XNL"
      },
      "execution_count": null,
      "outputs": []
    },
    {
      "cell_type": "code",
      "source": [
        "# check for non-numeric values in 'Sales'\n"
      ],
      "metadata": {
        "id": "G9VuVNhABFWX"
      },
      "execution_count": null,
      "outputs": []
    },
    {
      "cell_type": "markdown",
      "source": [
        "### Summary of Techniques Covered\n",
        "1. Handling Missing Values: Dropping or filling missing values with fixed values, forward/backward filling.\n",
        "2. Imputation: Using statistical methods (mean, median) to fill missing values.\n",
        "3. Interpolation: Estimating missing values using linear or other methods.\n",
        "4. Removing Duplicates: Identifying and dropping duplicate rows.\n",
        "5. Data Type Conversion: Converting string to numeric, datetime, or categorical types.\n",
        "6. Validation: Checking for invalid or inconsistent data entries."
      ],
      "metadata": {
        "id": "8VkScYrQ_c9t"
      }
    },
    {
      "cell_type": "markdown",
      "source": [
        "## 2:00 pm: Practical session 2"
      ],
      "metadata": {
        "id": "Y0MHxP_fWGpN"
      }
    },
    {
      "cell_type": "code",
      "source": [
        "#install the gdown library\n",
        "!pip install gdown"
      ],
      "metadata": {
        "id": "JIlxLJ-YWIQ0"
      },
      "execution_count": null,
      "outputs": []
    },
    {
      "cell_type": "code",
      "source": [
        "#download dengue csv\n",
        "import pandas as pd\n",
        "import gdown\n",
        "\n",
        "# insert file_id\n",
        "file_id = '1F-faNnQoyhdjbuyEVZPHV1cv_h0h5UDl'\n",
        "url = f'https://drive.google.com/uc?id={file_id}'\n",
        "\n",
        "# download the CSV file\n",
        "gdown.download(url, 'dengue.csv', quiet=False)\n",
        "\n",
        "# read the CSV file into a DataFrame\n",
        "df_dengue = pd.read_csv('dengue.csv')\n",
        "df_dengue"
      ],
      "metadata": {
        "id": "Agf8IB3Hpu9L"
      },
      "execution_count": null,
      "outputs": []
    },
    {
      "cell_type": "code",
      "source": [
        "# filter to only needed columns\n",
        "df_dengue_filtered = df_dengue[[\"NO_KES\", \"TRK_NOTI\", \"EPID_MINGG\", \"EPID_TAHUN\", \"JNS_KES\", \"NO_RUMAH\",\n",
        "                \"POSKOD\", \"LOKALITI\", \"MUKIM\", \"DAERAH\", \"NEGERI\", \"LATITUDE\", \"LONGITUDE\", \"PENTADBIRA\",\n",
        "                \"WARGANEGAR\", \"STATUS_PEN\", \"STATUS_LOK\"]]\n",
        "\n",
        "df_dengue_filtered"
      ],
      "metadata": {
        "id": "AF7qDMGgrgaw"
      },
      "execution_count": null,
      "outputs": []
    },
    {
      "cell_type": "code",
      "source": [
        "# find out the data types\n"
      ],
      "metadata": {
        "id": "CYyFWSGotnX8"
      },
      "execution_count": null,
      "outputs": []
    },
    {
      "cell_type": "code",
      "source": [
        "# convert TRK_NOTI to datetime\n"
      ],
      "metadata": {
        "id": "NgX-zbJwtubP"
      },
      "execution_count": null,
      "outputs": []
    },
    {
      "cell_type": "code",
      "source": [
        "# Verify the change\n"
      ],
      "metadata": {
        "id": "RkKy8U-it8lQ"
      },
      "execution_count": 11,
      "outputs": []
    },
    {
      "cell_type": "code",
      "source": [
        "# how many NaNs in each column\n"
      ],
      "metadata": {
        "id": "TxLaIkxYpvAJ"
      },
      "execution_count": null,
      "outputs": []
    },
    {
      "cell_type": "code",
      "source": [
        "features = [\"NO_KES\", \"TRK_NOTI\", \"EPID_MINGG\", \"EPID_TAHUN\", \"JNS_KES\", \"NO_RUMAH\",\n",
        "            \"POSKOD\", \"LOKALITI\", \"MUKIM\", \"DAERAH\", \"NEGERI\", \"LATITUDE\", \"LONGITUDE\",\n",
        "            \"PENTADBIRA\", \"WARGANEGAR\", \"STATUS_PEN\", \"STATUS_LOK\"]\n",
        "\n",
        "nan_count = []"
      ],
      "metadata": {
        "id": "c0X72WhfpvEp"
      },
      "execution_count": null,
      "outputs": []
    },
    {
      "cell_type": "code",
      "source": [
        "# which postcodes have most complete vs. most missing data?\n",
        "\n",
        "\n",
        "# rename the columns\n"
      ],
      "metadata": {
        "id": "HxoRiy3bpvHa"
      },
      "execution_count": null,
      "outputs": []
    },
    {
      "cell_type": "code",
      "source": [
        "# filter to one postcode\n"
      ],
      "metadata": {
        "id": "LYFaKxT9pvJl"
      },
      "execution_count": null,
      "outputs": []
    },
    {
      "cell_type": "code",
      "source": [
        "# convert dataframe to csv and download csv file\n"
      ],
      "metadata": {
        "colab": {
          "base_uri": "https://localhost:8080/",
          "height": 17
        },
        "id": "glA49BpX5kPa",
        "outputId": "d7cf4a88-c443-4e21-8414-61a5ce8a2b6e"
      },
      "execution_count": null,
      "outputs": [
        {
          "output_type": "display_data",
          "data": {
            "text/plain": [
              "<IPython.core.display.Javascript object>"
            ],
            "application/javascript": [
              "\n",
              "    async function download(id, filename, size) {\n",
              "      if (!google.colab.kernel.accessAllowed) {\n",
              "        return;\n",
              "      }\n",
              "      const div = document.createElement('div');\n",
              "      const label = document.createElement('label');\n",
              "      label.textContent = `Downloading \"${filename}\": `;\n",
              "      div.appendChild(label);\n",
              "      const progress = document.createElement('progress');\n",
              "      progress.max = size;\n",
              "      div.appendChild(progress);\n",
              "      document.body.appendChild(div);\n",
              "\n",
              "      const buffers = [];\n",
              "      let downloaded = 0;\n",
              "\n",
              "      const channel = await google.colab.kernel.comms.open(id);\n",
              "      // Send a message to notify the kernel that we're ready.\n",
              "      channel.send({})\n",
              "\n",
              "      for await (const message of channel.messages) {\n",
              "        // Send a message to notify the kernel that we're ready.\n",
              "        channel.send({})\n",
              "        if (message.buffers) {\n",
              "          for (const buffer of message.buffers) {\n",
              "            buffers.push(buffer);\n",
              "            downloaded += buffer.byteLength;\n",
              "            progress.value = downloaded;\n",
              "          }\n",
              "        }\n",
              "      }\n",
              "      const blob = new Blob(buffers, {type: 'application/binary'});\n",
              "      const a = document.createElement('a');\n",
              "      a.href = window.URL.createObjectURL(blob);\n",
              "      a.download = filename;\n",
              "      div.appendChild(a);\n",
              "      a.click();\n",
              "      div.remove();\n",
              "    }\n",
              "  "
            ]
          },
          "metadata": {}
        },
        {
          "output_type": "display_data",
          "data": {
            "text/plain": [
              "<IPython.core.display.Javascript object>"
            ],
            "application/javascript": [
              "download(\"download_34d9f17a-aec4-44d0-b2e5-5a238f353715\", \"df_postcode_43000.csv\", 4778562)"
            ]
          },
          "metadata": {}
        }
      ]
    },
    {
      "cell_type": "code",
      "source": [
        "# reset index\n"
      ],
      "metadata": {
        "id": "GsvT7eSbsojs"
      },
      "execution_count": null,
      "outputs": []
    },
    {
      "cell_type": "code",
      "source": [],
      "metadata": {
        "id": "QU8_16zTtQaE"
      },
      "execution_count": null,
      "outputs": []
    },
    {
      "cell_type": "code",
      "source": [
        "# create pivot table\n"
      ],
      "metadata": {
        "id": "ugIT6z71syKL"
      },
      "execution_count": null,
      "outputs": []
    },
    {
      "cell_type": "code",
      "source": [
        "# reset index to make 'date' a column again\n"
      ],
      "metadata": {
        "id": "kbDpHcwbsyMi"
      },
      "execution_count": null,
      "outputs": []
    },
    {
      "cell_type": "code",
      "source": [
        "# melt the DataFrame to long format\n",
        "\n",
        "\n",
        "# extract the case type from the 'case_type' column\n"
      ],
      "metadata": {
        "id": "6pfXyjcWsyPp"
      },
      "execution_count": null,
      "outputs": []
    },
    {
      "cell_type": "code",
      "source": [],
      "metadata": {
        "id": "-PwHKZgfsyRz"
      },
      "execution_count": null,
      "outputs": []
    },
    {
      "cell_type": "code",
      "source": [
        "# create the plot\n",
        "\n",
        "\n",
        "# customize the plot\n",
        "\n",
        "\n",
        "# show the plot\n"
      ],
      "metadata": {
        "id": "n4afAgipuqMt"
      },
      "execution_count": null,
      "outputs": []
    },
    {
      "cell_type": "markdown",
      "source": [
        "## 3:00 pm: Advanced data cleaning techniques"
      ],
      "metadata": {
        "id": "8n63_UsVWIrp"
      }
    },
    {
      "cell_type": "markdown",
      "source": [
        "### Outlier Detection Using Z-Score\n",
        "\n",
        "Outliers can be detected using statistical measures like the Z-score. A Z-score represents the number of standard deviations a data point is from the mean."
      ],
      "metadata": {
        "id": "F9nKYRL4BWwY"
      }
    },
    {
      "cell_type": "code",
      "source": [
        "import pandas as pd\n",
        "import numpy as np\n",
        "import matplotlib.pyplot as plt\n",
        "from scipy import stats\n",
        "\n",
        "# sample data with potential outliers\n",
        "data = {\n",
        "    'Date': pd.date_range(start='2023-01-01', periods=10),\n",
        "    'Sales': [100, 102, 98, 105, 200, 110, 108, 101, 99, 102]  # Notice the outlier at index 4\n",
        "}\n",
        "df = pd.DataFrame(data)\n",
        "df.set_index('Date', inplace=True)\n",
        "\n",
        "# calculate Z-scores\n",
        "\n",
        "\n",
        "# identify outliers (typically Z-score > 3 or < -3 is considered an outlier)\n",
        "\n",
        "\n",
        "# handle outliers by capping (winsorizing) to the 1st and 99th percentiles\n",
        "\n",
        "\n",
        "# plot the data with outliers and capped values\n",
        "\n"
      ],
      "metadata": {
        "id": "lsV0g6cBWKMk"
      },
      "execution_count": null,
      "outputs": []
    },
    {
      "cell_type": "markdown",
      "source": [
        "### Outlier Detection Using IQR (Interquartile Range)\n",
        "\n",
        "Another method to detect outliers is to use the Interquartile Range (IQR)."
      ],
      "metadata": {
        "id": "28yp2Z4oBXMf"
      }
    },
    {
      "cell_type": "code",
      "source": [
        "# calculate IQR for outlier detection\n",
        "\n",
        "\n",
        "# define outlier bounds\n",
        "\n",
        "\n",
        "# detect outliers\n",
        "\n",
        "\n",
        "# handle outliers by clipping\n",
        "\n",
        "\n",
        "# plot the data with IQR-based clipped values\n"
      ],
      "metadata": {
        "id": "dMCUElVqBXTn"
      },
      "execution_count": null,
      "outputs": []
    },
    {
      "cell_type": "markdown",
      "source": [
        "### Moving Average Smoothing"
      ],
      "metadata": {
        "id": "liMeICubBXZV"
      }
    },
    {
      "cell_type": "code",
      "source": [
        "# apply moving average smoothing\n",
        "\n",
        "\n",
        "# plotting the original and smoothed data\n"
      ],
      "metadata": {
        "id": "hZ4bARXbBXfH"
      },
      "execution_count": null,
      "outputs": []
    },
    {
      "cell_type": "markdown",
      "source": [
        "### Exponential smoothing\n",
        "\n",
        "Exponential smoothing gives more weight to recent observations."
      ],
      "metadata": {
        "id": "U-ypqwmsBXky"
      }
    },
    {
      "cell_type": "code",
      "source": [
        "# refer to https://www.statsmodels.org/stable/examples/notebooks/generated/exponential_smoothing.html\n",
        "\n",
        "# apply exponential smoothing\n",
        "\n",
        "\n",
        "# plot the original and smoothed data\n"
      ],
      "metadata": {
        "id": "E890LTFsBXqi"
      },
      "execution_count": null,
      "outputs": []
    },
    {
      "cell_type": "markdown",
      "source": [
        "### Decomposition of Time Series\n",
        "\n",
        "Time series decomposition separates data into trend, seasonal, and residual components."
      ],
      "metadata": {
        "id": "CLDe6a_PCK2F"
      }
    },
    {
      "cell_type": "code",
      "source": [
        "# refer to https://www.statsmodels.org/stable/generated/statsmodels.tsa.seasonal.seasonal_decompose.html\n",
        "\n",
        "\n",
        "# decompose the time series\n",
        "\n",
        "\n",
        "# display the components\n",
        "\n"
      ],
      "metadata": {
        "id": "BJylB2rCCK_A"
      },
      "execution_count": null,
      "outputs": []
    },
    {
      "cell_type": "markdown",
      "source": [
        "### Detrending Time Series\n",
        "\n",
        "Detrending removes the trend component to focus on seasonal and residual components."
      ],
      "metadata": {
        "id": "hjLFzoqsCLEv"
      }
    },
    {
      "cell_type": "code",
      "source": [
        "# remove trend component to get detrended data\n",
        "\n",
        "\n",
        "# plot the detrended data\n"
      ],
      "metadata": {
        "id": "uS0B48WOCLLW"
      },
      "execution_count": null,
      "outputs": []
    },
    {
      "cell_type": "markdown",
      "source": [
        "###Summary of Techniques Covered\n",
        "\n",
        "1. Outlier Detection and Handling:\n",
        "- Z-score\n",
        "-IQR (Interquartile Range)\n",
        "-Winsorizing (capping)\n",
        "-Clipping\n",
        "\n",
        "2. Smoothing Time Series Data:\n",
        "- Moving Average\n",
        "- Exponential Smoothing\n",
        "\n",
        "3. Handling Seasonal and Trend Components:\n",
        "- Decomposition (trend, seasonal, residual)\n",
        "- Detrending"
      ],
      "metadata": {
        "id": "g8E04pq5ChKy"
      }
    },
    {
      "cell_type": "markdown",
      "source": [
        "## 4:00 pm: Practical session 3"
      ],
      "metadata": {
        "id": "bd06yNpNWKlf"
      }
    },
    {
      "cell_type": "code",
      "source": [
        "# get case type wabak\n"
      ],
      "metadata": {
        "id": "ycVHDmbdWMNV"
      },
      "execution_count": null,
      "outputs": []
    },
    {
      "cell_type": "code",
      "source": [
        "# apply moving average smoothing\n",
        "\n",
        "\n",
        "# plotting the original and smoothed data\n"
      ],
      "metadata": {
        "id": "3Gg4YRSvvCWo"
      },
      "execution_count": null,
      "outputs": []
    },
    {
      "cell_type": "code",
      "source": [
        "# decompose the time series\n",
        "\n",
        "\n",
        "# displaying the components\n"
      ],
      "metadata": {
        "id": "2slklcONvyLR"
      },
      "execution_count": null,
      "outputs": []
    },
    {
      "cell_type": "code",
      "source": [
        "from statsmodels.tsa.api import ExponentialSmoothing\n",
        "\n",
        "# Apply exponential smoothing\n",
        "\n",
        "\n",
        "# plot the original and smoothed data\n"
      ],
      "metadata": {
        "id": "SuRya0GBxND4"
      },
      "execution_count": null,
      "outputs": []
    },
    {
      "cell_type": "code",
      "source": [
        "# run for a few postcodes\n",
        "\n",
        "postcodes = [43000, 68000, 43300, 41200, 43200]\n",
        "\n"
      ],
      "metadata": {
        "id": "SEBUfhco0Bre"
      },
      "execution_count": null,
      "outputs": []
    },
    {
      "cell_type": "code",
      "source": [
        "# concatenate EPID_TAHUN_MINGG\n"
      ],
      "metadata": {
        "id": "055xjXk_-YYk"
      },
      "execution_count": null,
      "outputs": []
    },
    {
      "cell_type": "code",
      "source": [
        "# set up the grid: nrows should be based on how many postcodes you're plotting\n",
        "\n",
        "\n",
        "# flatten the axes array in case there's only one row of plots\n",
        "\n"
      ],
      "metadata": {
        "id": "Jek3mSsn2hSW"
      },
      "execution_count": null,
      "outputs": []
    },
    {
      "cell_type": "code",
      "source": [
        "# use cumulative cases this time\n"
      ],
      "metadata": {
        "id": "5olnvjl--N4S"
      },
      "execution_count": null,
      "outputs": []
    },
    {
      "cell_type": "code",
      "source": [],
      "metadata": {
        "id": "5vXLoR3MAlUC"
      },
      "execution_count": null,
      "outputs": []
    }
  ]
}